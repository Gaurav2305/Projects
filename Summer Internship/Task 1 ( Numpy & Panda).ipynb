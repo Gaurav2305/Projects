{
 "cells": [
  {
   "cell_type": "markdown",
   "id": "100581bf",
   "metadata": {},
   "source": [
    "# Numpy"
   ]
  },
  {
   "cell_type": "code",
   "execution_count": 86,
   "id": "be7715d5",
   "metadata": {},
   "outputs": [],
   "source": [
    "import numpy as np\n",
    "import pandas as pd"
   ]
  },
  {
   "cell_type": "code",
   "execution_count": 4,
   "id": "ed7a9261",
   "metadata": {},
   "outputs": [
    {
     "data": {
      "text/plain": [
       "array([ 1,  2,  3,  4,  5,  6,  7,  8,  9, 10])"
      ]
     },
     "execution_count": 4,
     "metadata": {},
     "output_type": "execute_result"
    }
   ],
   "source": [
    "#NumPy array with values ranging from 1 to 10\n",
    "np.arange(1,11)"
   ]
  },
  {
   "cell_type": "code",
   "execution_count": 22,
   "id": "8ece84fe",
   "metadata": {},
   "outputs": [
    {
     "name": "stdout",
     "output_type": "stream",
     "text": [
      "[60 94 83 87 26 82 86 46 63 84 34  6 43 39 59 63 49 18 67 24 23 89 20 88\n",
      " 32 65  7 89 41 90 72 98 75 60 70 44 41 60 18 60 79 10  8 98 16  7 30 90\n",
      " 32 37]\n"
     ]
    }
   ],
   "source": [
    "#NumPy array of size 50 using random values.\n",
    "NP=np.random.randint(1,100,50)\n",
    "print(NP)"
   ]
  },
  {
   "cell_type": "code",
   "execution_count": 27,
   "id": "48644ab0",
   "metadata": {},
   "outputs": [
    {
     "name": "stdout",
     "output_type": "stream",
     "text": [
      "53.24\n"
     ]
    }
   ],
   "source": [
    "#The mean of a NumPy array\n",
    "M=np.mean(NP)\n",
    "print(M)"
   ]
  },
  {
   "cell_type": "code",
   "execution_count": 24,
   "id": "4f3640e6",
   "metadata": {},
   "outputs": [
    {
     "data": {
      "text/plain": [
       "98"
      ]
     },
     "execution_count": 24,
     "metadata": {},
     "output_type": "execute_result"
    }
   ],
   "source": [
    "#The maximum value in a NumPy array\n",
    "np.max(NP)"
   ]
  },
  {
   "cell_type": "code",
   "execution_count": 29,
   "id": "e7498a26",
   "metadata": {},
   "outputs": [
    {
     "name": "stdout",
     "output_type": "stream",
     "text": [
      "28.37714573384716\n"
     ]
    }
   ],
   "source": [
    "STD=np.std(NP)    #Standard Deviation\n",
    "print(STD)"
   ]
  },
  {
   "cell_type": "code",
   "execution_count": 31,
   "id": "664186e7",
   "metadata": {},
   "outputs": [
    {
     "name": "stdout",
     "output_type": "stream",
     "text": [
      "[58.12384232 92.12384232 81.12384232 85.12384232 24.12384232 80.12384232\n",
      " 84.12384232 44.12384232 61.12384232 82.12384232 32.12384232  4.12384232\n",
      " 41.12384232 37.12384232 57.12384232 61.12384232 47.12384232 16.12384232\n",
      " 65.12384232 22.12384232 21.12384232 87.12384232 18.12384232 86.12384232\n",
      " 30.12384232 63.12384232  5.12384232 87.12384232 39.12384232 88.12384232\n",
      " 70.12384232 96.12384232 73.12384232 58.12384232 68.12384232 42.12384232\n",
      " 39.12384232 58.12384232 16.12384232 58.12384232 77.12384232  8.12384232\n",
      "  6.12384232 96.12384232 14.12384232  5.12384232 28.12384232 88.12384232\n",
      " 30.12384232 35.12384232]\n"
     ]
    }
   ],
   "source": [
    "#Normalize a NumPy array by subtracting the mean and dividing by the standard deviation.\n",
    "Normalize = (NP-M/STD)\n",
    "print(Normalize)"
   ]
  },
  {
   "cell_type": "code",
   "execution_count": 39,
   "id": "8951c750",
   "metadata": {},
   "outputs": [
    {
     "name": "stdout",
     "output_type": "stream",
     "text": [
      "[49 17 93 46 46 76]\n"
     ]
    }
   ],
   "source": [
    "#NumPy array of size 6 using random values\n",
    "NP2=np.random.randint(1,100,6)\n",
    "print(NP2)"
   ]
  },
  {
   "cell_type": "code",
   "execution_count": 41,
   "id": "818657c1",
   "metadata": {},
   "outputs": [
    {
     "name": "stdout",
     "output_type": "stream",
     "text": [
      "[[49 17 93]\n",
      " [46 46 76]]\n"
     ]
    }
   ],
   "source": [
    "#Reshape a 1D NumPy array into a 2D array with 2 rows and 3 columns.\n",
    "Reshape= np.reshape(NP2, (2,3))\n",
    "print(Reshape)"
   ]
  },
  {
   "cell_type": "code",
   "execution_count": 43,
   "id": "deacccf5",
   "metadata": {},
   "outputs": [
    {
     "name": "stdout",
     "output_type": "stream",
     "text": [
      "[99 28 55 56  6 79 97 73 49 55]\n",
      "[51 65 69 20 71 22 29 97 76 45]\n"
     ]
    }
   ],
   "source": [
    "#Two NumPy array of size 10 using random values\n",
    "A = np.random.randint(1,100,10)\n",
    "print(A)\n",
    "B = np.random.randint(1,100,10)\n",
    "print(B)"
   ]
  },
  {
   "cell_type": "code",
   "execution_count": 45,
   "id": "0e723944",
   "metadata": {},
   "outputs": [
    {
     "data": {
      "text/plain": [
       "30041"
      ]
     },
     "execution_count": 45,
     "metadata": {},
     "output_type": "execute_result"
    }
   ],
   "source": [
    "#The dot product of two NumPy arrays\n",
    "np.dot(A,B)"
   ]
  },
  {
   "cell_type": "code",
   "execution_count": 52,
   "id": "d0afc1b9",
   "metadata": {},
   "outputs": [
    {
     "name": "stdout",
     "output_type": "stream",
     "text": [
      "[2 2 3 0 4 3 1 0 0 1 4 4 1 1 4 3 4 3 1 2 3 3 0 3 1 3 0 1 0 1 4 1 0 2 3 3 3\n",
      " 3 4 2 2 0 3 3 0 0 4 4 0 2]\n"
     ]
    }
   ],
   "source": [
    "#NumPy array of size 50 using random values ranging from (0, 5)\n",
    "I=np.random.randint(0,5,50)\n",
    "print(I)"
   ]
  },
  {
   "cell_type": "code",
   "execution_count": 59,
   "id": "14315db5",
   "metadata": {},
   "outputs": [
    {
     "name": "stdout",
     "output_type": "stream",
     "text": [
      "(array([ 0,  1,  2,  4,  5,  6,  9, 10, 11, 12, 13, 14, 15, 16, 17, 18, 19,\n",
      "       20, 21, 23, 24, 25, 27, 29, 30, 31, 33, 34, 35, 36, 37, 38, 39, 40,\n",
      "       42, 43, 46, 47, 49], dtype=int64),)\n"
     ]
    }
   ],
   "source": [
    "#The indices of the non-zero elements in a NumPy array.\n",
    "Indices= np.nonzero(I)\n",
    "print(Indices)"
   ]
  },
  {
   "cell_type": "code",
   "execution_count": 61,
   "id": "814be4ec",
   "metadata": {},
   "outputs": [
    {
     "name": "stdout",
     "output_type": "stream",
     "text": [
      "[1 1 2 2 0 2 2 1 1 1 1 0 4 0 3 0 1 4 4 1 2 4 3 1 1 1 2 4 4 0 4 4 2 2 3 1 4\n",
      " 3 4 2 3 1 3 0 4 3 0 0 0 0]\n",
      "[2 3 3 1 3 0 3 1 4 4 0 0 0 0 0 3 4 3 0 3 3 1 4 0 2 1 0 0 3 4 1 2 0 3 4 3 4\n",
      " 1 2 0 1 1 4 1 2 2 4 3 3 3]\n"
     ]
    }
   ],
   "source": [
    "#NumPy array of size 20 using random values \n",
    "NP3= np.random.randint(0,5,50)\n",
    "print(NP3)\n",
    "NP4= np.random.randint(0,5,50)\n",
    "print(NP4)"
   ]
  },
  {
   "cell_type": "code",
   "execution_count": 62,
   "id": "05b3e9de",
   "metadata": {},
   "outputs": [
    {
     "data": {
      "text/plain": [
       "array([ 2,  3,  6,  2,  0,  0,  6,  1,  4,  4,  0,  0,  0,  0,  0,  0,  4,\n",
       "       12,  0,  3,  6,  4, 12,  0,  2,  1,  0,  0, 12,  0,  4,  8,  0,  6,\n",
       "       12,  3, 16,  3,  8,  0,  3,  1, 12,  0,  8,  6,  0,  0,  0,  0])"
      ]
     },
     "execution_count": 62,
     "metadata": {},
     "output_type": "execute_result"
    }
   ],
   "source": [
    "#The element-wise product of two NumPy arrays.\n",
    "np.multiply(NP3,NP4)"
   ]
  },
  {
   "cell_type": "code",
   "execution_count": 65,
   "id": "80c49f36",
   "metadata": {},
   "outputs": [
    {
     "name": "stdout",
     "output_type": "stream",
     "text": [
      "[0.89764416 0.63221923 0.97556658 0.34420686 0.07767147 0.65025154\n",
      " 0.71625292 0.29976319 0.65695996 0.2968107 ]\n"
     ]
    }
   ],
   "source": [
    "#A random NumPy array with 10 elements.\n",
    "NP5 = np.random.random(10)\n",
    "print(NP5)"
   ]
  },
  {
   "cell_type": "code",
   "execution_count": 68,
   "id": "2ae578f8",
   "metadata": {},
   "outputs": [
    {
     "name": "stdout",
     "output_type": "stream",
     "text": [
      "[86 56 49 14 93 97 39 44 23 76 26 71 44 82 33]\n",
      "[36 32 78 50 59 23 52 58 48 81  6 48 26 37 99]\n"
     ]
    }
   ],
   "source": [
    "#Two NumPy array of size 15 using random values \n",
    "NP6= np.random.randint(0,100,15)\n",
    "print(NP6)\n",
    "NP7= np.random.randint(0,100,15)\n",
    "print(NP7)"
   ]
  },
  {
   "cell_type": "code",
   "execution_count": 70,
   "id": "92a553db",
   "metadata": {},
   "outputs": [
    {
     "name": "stdout",
     "output_type": "stream",
     "text": [
      "[[86 56 49 14 93 97 39 44 23 76 26 71 44 82 33]\n",
      " [36 32 78 50 59 23 52 58 48 81  6 48 26 37 99]]\n"
     ]
    }
   ],
   "source": [
    "Stack=np.vstack((NP6,NP7))\n",
    "print(Stack)"
   ]
  },
  {
   "cell_type": "code",
   "execution_count": 71,
   "id": "0619b1a7",
   "metadata": {},
   "outputs": [
    {
     "name": "stdout",
     "output_type": "stream",
     "text": [
      "[[3 0 2 3 3 2]\n",
      " [2 0 3 1 3 2]\n",
      " [1 2 2 0 3 3]]\n"
     ]
    }
   ],
   "source": [
    "#Create a 2D NumPy array of size 3x6 using random values \n",
    "NP8 = np.random.randint(5, size=(3,6))\n",
    "print(NP8)"
   ]
  },
  {
   "cell_type": "code",
   "execution_count": 72,
   "id": "6cc5246b",
   "metadata": {},
   "outputs": [
    {
     "data": {
      "text/plain": [
       "array([[3, 2, 1],\n",
       "       [0, 0, 2],\n",
       "       [2, 3, 2],\n",
       "       [3, 1, 0],\n",
       "       [3, 3, 3],\n",
       "       [2, 2, 3]])"
      ]
     },
     "execution_count": 72,
     "metadata": {},
     "output_type": "execute_result"
    }
   ],
   "source": [
    "#Transpose a 2D NumPy array.\n",
    "np.transpose(NP8)"
   ]
  },
  {
   "cell_type": "code",
   "execution_count": 77,
   "id": "0c12ab63",
   "metadata": {},
   "outputs": [
    {
     "name": "stdout",
     "output_type": "stream",
     "text": [
      "[[1 2]\n",
      " [2 4]]\n"
     ]
    }
   ],
   "source": [
    "#Create a 2D NumPy array of size 2x2 using random values \n",
    "NP9 = np.random.randint(5, size=(2,2))\n",
    "print(NP9)"
   ]
  },
  {
   "cell_type": "code",
   "execution_count": 75,
   "id": "e9f6faff",
   "metadata": {},
   "outputs": [
    {
     "data": {
      "text/plain": [
       "2.0"
      ]
     },
     "execution_count": 75,
     "metadata": {},
     "output_type": "execute_result"
    }
   ],
   "source": [
    "#Determinant\n",
    "np.linalg.det(NP9)"
   ]
  },
  {
   "cell_type": "code",
   "execution_count": 78,
   "id": "9f2b867c",
   "metadata": {},
   "outputs": [
    {
     "name": "stdout",
     "output_type": "stream",
     "text": [
      "[15 34 82 53 86 73 71 81 74 49  9 61 93 75 97 93 24 49 46 89 13 63 44 14\n",
      " 51 24 75  3 63 44]\n"
     ]
    }
   ],
   "source": [
    "#NumPy array of size 30 using random values \n",
    "NP10= np.random.randint(0,100,30)\n",
    "print(NP10)"
   ]
  },
  {
   "cell_type": "code",
   "execution_count": 79,
   "id": "e4bae037",
   "metadata": {},
   "outputs": [
    {
     "data": {
      "text/plain": [
       "array([ 3,  9, 13, 14, 15, 24, 24, 34, 44, 44, 46, 49, 49, 51, 53, 61, 63,\n",
       "       63, 71, 73, 74, 75, 75, 81, 82, 86, 89, 93, 93, 97])"
      ]
     },
     "execution_count": 79,
     "metadata": {},
     "output_type": "execute_result"
    }
   ],
   "source": [
    "#Ascending order\n",
    "np.sort(NP10)"
   ]
  },
  {
   "cell_type": "code",
   "execution_count": 80,
   "id": "980e9027",
   "metadata": {},
   "outputs": [
    {
     "name": "stdout",
     "output_type": "stream",
     "text": [
      "[73 87 74 44 80 68 97 60 26 63  5  2 78 62 81 28 40 27 14 48 98 85  7 74\n",
      " 18]\n"
     ]
    }
   ],
   "source": [
    "#NumPy array of size 25 using random values \n",
    "NP11= np.random.randint(0,100,25)\n",
    "print(NP11)"
   ]
  },
  {
   "cell_type": "code",
   "execution_count": 82,
   "id": "d56a7eed",
   "metadata": {},
   "outputs": [
    {
     "data": {
      "text/plain": [
       "array([73, 87, 97, 63,  5, 81, 27, 85,  7])"
      ]
     },
     "execution_count": 82,
     "metadata": {},
     "output_type": "execute_result"
    }
   ],
   "source": [
    "#Extract all odd numbers from a NumPy array\n",
    "NP11[NP11 % 2 == 1]"
   ]
  },
  {
   "cell_type": "code",
   "execution_count": 83,
   "id": "45ea2157",
   "metadata": {},
   "outputs": [
    {
     "name": "stdout",
     "output_type": "stream",
     "text": [
      "[[0 3 6 7]\n",
      " [9 7 0 0]\n",
      " [6 5 9 7]]\n",
      "[[2 8]\n",
      " [7 6]\n",
      " [1 9]\n",
      " [0 3]]\n"
     ]
    }
   ],
   "source": [
    "#Two NumPy array of size 3x4 and 4x2 using random values \n",
    "NP12 = np.random.randint(10, size=(3,4))\n",
    "print(NP12)\n",
    "NP13 = np.random.randint(10, size=(4,2))\n",
    "print(NP13)"
   ]
  },
  {
   "cell_type": "code",
   "execution_count": 84,
   "id": "9432ff97",
   "metadata": {},
   "outputs": [
    {
     "data": {
      "text/plain": [
       "array([[ 27,  93],\n",
       "       [ 67, 114],\n",
       "       [ 56, 180]])"
      ]
     },
     "execution_count": 84,
     "metadata": {},
     "output_type": "execute_result"
    }
   ],
   "source": [
    "#matrix multiplication between a 3x4 and a 4x2 NumPy array.\n",
    "np.dot(NP12,NP13)"
   ]
  },
  {
   "cell_type": "markdown",
   "id": "d68b410f",
   "metadata": {},
   "source": [
    "# Pandas"
   ]
  },
  {
   "cell_type": "code",
   "execution_count": 90,
   "id": "f217439a",
   "metadata": {},
   "outputs": [
    {
     "name": "stdout",
     "output_type": "stream",
     "text": [
      "                      Car Name   MPG  Cylinders  Displacement  Horsepower  \\\n",
      "0    Chevrolet Chevelle Malibu  18.0        8.0         307.0       130.0   \n",
      "1            Buick Skylark 320  15.0        8.0         350.0       165.0   \n",
      "2           Plymouth Satellite  18.0        8.0         318.0       150.0   \n",
      "3                AMC Rebel SST  16.0        8.0         304.0       150.0   \n",
      "4                  Ford Torino  17.0        8.0         302.0       140.0   \n",
      "..                         ...   ...        ...           ...         ...   \n",
      "404            Ford Mustang GL  27.0        4.0         140.0        86.0   \n",
      "405          Volkswagen Pickup  44.0        4.0          97.0        52.0   \n",
      "406              Dodge Rampage  32.0        4.0         135.0        84.0   \n",
      "407                Ford Ranger  28.0        4.0         120.0        79.0   \n",
      "408                 Chevy S-10  31.0        4.0         119.0        82.0   \n",
      "\n",
      "     Weight  Acceleration  Model  Origin  \n",
      "0    3504.0          12.0   70.0      US  \n",
      "1    3693.0          11.5   70.0      US  \n",
      "2    3436.0          11.0   70.0      US  \n",
      "3    3433.0          12.0   70.0      US  \n",
      "4    3449.0          10.5   70.0      US  \n",
      "..      ...           ...    ...     ...  \n",
      "404  2790.0          15.6   82.0      US  \n",
      "405  2130.0          24.6   82.0  Europe  \n",
      "406  2295.0          11.6   82.0      US  \n",
      "407  2625.0          18.6   82.0      US  \n",
      "408  2720.0          19.4   82.0      US  \n",
      "\n",
      "[409 rows x 9 columns]\n"
     ]
    }
   ],
   "source": [
    "Cars = pd.read_csv(r'C:/Users/Lenovo/Downloads/cars.csv')\n",
    "print(Cars)"
   ]
  },
  {
   "cell_type": "code",
   "execution_count": 94,
   "id": "e856ce9a",
   "metadata": {},
   "outputs": [
    {
     "data": {
      "text/html": [
       "<div>\n",
       "<style scoped>\n",
       "    .dataframe tbody tr th:only-of-type {\n",
       "        vertical-align: middle;\n",
       "    }\n",
       "\n",
       "    .dataframe tbody tr th {\n",
       "        vertical-align: top;\n",
       "    }\n",
       "\n",
       "    .dataframe thead th {\n",
       "        text-align: right;\n",
       "    }\n",
       "</style>\n",
       "<table border=\"1\" class=\"dataframe\">\n",
       "  <thead>\n",
       "    <tr style=\"text-align: right;\">\n",
       "      <th></th>\n",
       "      <th>Car Name</th>\n",
       "      <th>MPG</th>\n",
       "      <th>Cylinders</th>\n",
       "      <th>Displacement</th>\n",
       "      <th>Horsepower</th>\n",
       "      <th>Weight</th>\n",
       "      <th>Acceleration</th>\n",
       "      <th>Model</th>\n",
       "      <th>Origin</th>\n",
       "    </tr>\n",
       "  </thead>\n",
       "  <tbody>\n",
       "    <tr>\n",
       "      <th>0</th>\n",
       "      <td>Chevrolet Chevelle Malibu</td>\n",
       "      <td>18.0</td>\n",
       "      <td>8.0</td>\n",
       "      <td>307.0</td>\n",
       "      <td>130.0</td>\n",
       "      <td>3504.0</td>\n",
       "      <td>12.0</td>\n",
       "      <td>70.0</td>\n",
       "      <td>US</td>\n",
       "    </tr>\n",
       "    <tr>\n",
       "      <th>1</th>\n",
       "      <td>Buick Skylark 320</td>\n",
       "      <td>15.0</td>\n",
       "      <td>8.0</td>\n",
       "      <td>350.0</td>\n",
       "      <td>165.0</td>\n",
       "      <td>3693.0</td>\n",
       "      <td>11.5</td>\n",
       "      <td>70.0</td>\n",
       "      <td>US</td>\n",
       "    </tr>\n",
       "    <tr>\n",
       "      <th>2</th>\n",
       "      <td>Plymouth Satellite</td>\n",
       "      <td>18.0</td>\n",
       "      <td>8.0</td>\n",
       "      <td>318.0</td>\n",
       "      <td>150.0</td>\n",
       "      <td>3436.0</td>\n",
       "      <td>11.0</td>\n",
       "      <td>70.0</td>\n",
       "      <td>US</td>\n",
       "    </tr>\n",
       "    <tr>\n",
       "      <th>3</th>\n",
       "      <td>AMC Rebel SST</td>\n",
       "      <td>16.0</td>\n",
       "      <td>8.0</td>\n",
       "      <td>304.0</td>\n",
       "      <td>150.0</td>\n",
       "      <td>3433.0</td>\n",
       "      <td>12.0</td>\n",
       "      <td>70.0</td>\n",
       "      <td>US</td>\n",
       "    </tr>\n",
       "    <tr>\n",
       "      <th>4</th>\n",
       "      <td>Ford Torino</td>\n",
       "      <td>17.0</td>\n",
       "      <td>8.0</td>\n",
       "      <td>302.0</td>\n",
       "      <td>140.0</td>\n",
       "      <td>3449.0</td>\n",
       "      <td>10.5</td>\n",
       "      <td>70.0</td>\n",
       "      <td>US</td>\n",
       "    </tr>\n",
       "  </tbody>\n",
       "</table>\n",
       "</div>"
      ],
      "text/plain": [
       "                    Car Name   MPG  Cylinders  Displacement  Horsepower  \\\n",
       "0  Chevrolet Chevelle Malibu  18.0        8.0         307.0       130.0   \n",
       "1          Buick Skylark 320  15.0        8.0         350.0       165.0   \n",
       "2         Plymouth Satellite  18.0        8.0         318.0       150.0   \n",
       "3              AMC Rebel SST  16.0        8.0         304.0       150.0   \n",
       "4                Ford Torino  17.0        8.0         302.0       140.0   \n",
       "\n",
       "   Weight  Acceleration  Model Origin  \n",
       "0  3504.0          12.0   70.0     US  \n",
       "1  3693.0          11.5   70.0     US  \n",
       "2  3436.0          11.0   70.0     US  \n",
       "3  3433.0          12.0   70.0     US  \n",
       "4  3449.0          10.5   70.0     US  "
      ]
     },
     "execution_count": 94,
     "metadata": {},
     "output_type": "execute_result"
    }
   ],
   "source": [
    "#2.\tDisplay the first 5 rows of a DataFrame\n",
    "Cars[:5]"
   ]
  },
  {
   "cell_type": "code",
   "execution_count": 95,
   "id": "a3f242d6",
   "metadata": {},
   "outputs": [
    {
     "data": {
      "text/plain": [
       "10"
      ]
     },
     "execution_count": 95,
     "metadata": {},
     "output_type": "execute_result"
    }
   ],
   "source": [
    "#Count the number of missing values in each column of a DataFrame\n",
    "Cars.isna().sum().sum()"
   ]
  },
  {
   "cell_type": "code",
   "execution_count": 104,
   "id": "0331ceab",
   "metadata": {},
   "outputs": [
    {
     "name": "stdout",
     "output_type": "stream",
     "text": [
      "                      Car Name   MPG  Cylinders  Displacement  Horsepower  \\\n",
      "0    Chevrolet Chevelle Malibu  18.0        8.0         307.0       130.0   \n",
      "1            Buick Skylark 320  15.0        8.0         350.0       165.0   \n",
      "2           Plymouth Satellite  18.0        8.0         318.0       150.0   \n",
      "3                AMC Rebel SST  16.0        8.0         304.0       150.0   \n",
      "4                  Ford Torino  17.0        8.0         302.0       140.0   \n",
      "..                         ...   ...        ...           ...         ...   \n",
      "403           Chevrolet Camaro  27.0        4.0         151.0        90.0   \n",
      "404            Ford Mustang GL  27.0        4.0         140.0        86.0   \n",
      "406              Dodge Rampage  32.0        4.0         135.0        84.0   \n",
      "407                Ford Ranger  28.0        4.0         120.0        79.0   \n",
      "408                 Chevy S-10  31.0        4.0         119.0        82.0   \n",
      "\n",
      "     Weight  Acceleration  Model Origin  \n",
      "0    3504.0          12.0   70.0     US  \n",
      "1    3693.0          11.5   70.0     US  \n",
      "2    3436.0          11.0   70.0     US  \n",
      "3    3433.0          12.0   70.0     US  \n",
      "4    3449.0          10.5   70.0     US  \n",
      "..      ...           ...    ...    ...  \n",
      "403  2950.0          17.3   82.0     US  \n",
      "404  2790.0          15.6   82.0     US  \n",
      "406  2295.0          11.6   82.0     US  \n",
      "407  2625.0          18.6   82.0     US  \n",
      "408  2720.0          19.4   82.0     US  \n",
      "\n",
      "[256 rows x 9 columns]\n"
     ]
    }
   ],
   "source": [
    "#Filter a DataFrame to only include rows where a specific column meets a certain condition.\n",
    "Cars1=Cars[Cars[\"Origin\"] == 'US'] \n",
    "print(Cars1)"
   ]
  },
  {
   "cell_type": "code",
   "execution_count": 105,
   "id": "27a2cb04",
   "metadata": {},
   "outputs": [
    {
     "name": "stdout",
     "output_type": "stream",
     "text": [
      "                      Car Name   MPG  Cylinders  Displacement  Horsepower  \\\n",
      "0    Chevrolet Chevelle Malibu  18.0        8.0         307.0       130.0   \n",
      "1            Buick Skylark 320  15.0        8.0         350.0       165.0   \n",
      "2           Plymouth Satellite  18.0        8.0         318.0       150.0   \n",
      "3                AMC Rebel SST  16.0        8.0         304.0       150.0   \n",
      "4                  Ford Torino  17.0        8.0         302.0       140.0   \n",
      "..                         ...   ...        ...           ...         ...   \n",
      "403           Chevrolet Camaro  27.0        4.0         151.0        90.0   \n",
      "404            Ford Mustang GL  27.0        4.0         140.0        86.0   \n",
      "406              Dodge Rampage  32.0        4.0         135.0        84.0   \n",
      "407                Ford Ranger  28.0        4.0         120.0        79.0   \n",
      "408                 Chevy S-10  31.0        4.0         119.0        82.0   \n",
      "\n",
      "     Weight  Acceleration  Model Origin  \n",
      "0    3504.0          12.0   70.0     US  \n",
      "1    3693.0          11.5   70.0     US  \n",
      "2    3436.0          11.0   70.0     US  \n",
      "3    3433.0          12.0   70.0     US  \n",
      "4    3449.0          10.5   70.0     US  \n",
      "..      ...           ...    ...    ...  \n",
      "403  2950.0          17.3   82.0     US  \n",
      "404  2790.0          15.6   82.0     US  \n",
      "406  2295.0          11.6   82.0     US  \n",
      "407  2625.0          18.6   82.0     US  \n",
      "408  2720.0          19.4   82.0     US  \n",
      "\n",
      "[247 rows x 9 columns]\n"
     ]
    }
   ],
   "source": [
    "Cars2=Cars1[Cars1[\"MPG\"] > 0] \n",
    "print(Cars2)"
   ]
  },
  {
   "cell_type": "code",
   "execution_count": 106,
   "id": "c3baebef",
   "metadata": {},
   "outputs": [
    {
     "name": "stdout",
     "output_type": "stream",
     "text": [
      "                            Car Name   MPG  Cylinders  Displacement  \\\n",
      "1                  Buick Skylark 320  15.0        8.0         350.0   \n",
      "5                   Ford Galaxie 500  15.0        8.0         429.0   \n",
      "6                   Chevrolet Impala  14.0        8.0         454.0   \n",
      "7                  Plymouth Fury iii  14.0        8.0         440.0   \n",
      "8                   Pontiac Catalina  14.0        8.0         455.0   \n",
      "9                 AMC Ambassador DPL  15.0        8.0         390.0   \n",
      "18               Dodge Challenger SE  15.0        8.0         383.0   \n",
      "19                Plymouth 'Cuda 340  14.0        8.0         340.0   \n",
      "22           Buick Estate Wagon (sw)  14.0        8.0         455.0   \n",
      "34                         Ford F250  10.0        8.0         360.0   \n",
      "35                         Chevy C20  10.0        8.0         307.0   \n",
      "36                        Dodge D200  11.0        8.0         318.0   \n",
      "37                          Hi 1200D   9.0        8.0         304.0   \n",
      "49         Pontiac Catalina Brougham  14.0        8.0         400.0   \n",
      "52                 Dodge Monaco (sw)  12.0        8.0         383.0   \n",
      "53          Ford Country Squire (sw)  13.0        8.0         400.0   \n",
      "54               Pontiac Safari (sw)  13.0        8.0         400.0   \n",
      "72                  Chevrolet Impala  13.0        8.0         350.0   \n",
      "73                  Pontiac Catalina  14.0        8.0         400.0   \n",
      "75                  Ford Galaxie 500  14.0        8.0         351.0   \n",
      "77                   Mercury Marquis  11.0        8.0         429.0   \n",
      "78              Buick LeSabre Custom  13.0        8.0         350.0   \n",
      "79        Oldsmobile Delta 88 Royale  12.0        8.0         350.0   \n",
      "80            Chrysler Newport Royal  13.0        8.0         400.0   \n",
      "95                 Buick Century 350  13.0        8.0         350.0   \n",
      "102                         Ford LTD  13.0        8.0         351.0   \n",
      "104     Chrysler New Yorker Brougham  13.0        8.0         440.0   \n",
      "105         Buick Electra 225 Custom  12.0        8.0         455.0   \n",
      "106          AMC Ambassador Brougham  13.0        8.0         360.0   \n",
      "114                     Ford Country  12.0        8.0         400.0   \n",
      "115           Plymouth Custom Suburb  13.0        8.0         360.0   \n",
      "116         Oldsmobile Vista Cruiser  12.0        8.0         350.0   \n",
      "126               Pontiac Grand Prix  16.0        8.0         400.0   \n",
      "134                 Oldsmobile Omega  11.0        8.0         350.0   \n",
      "166                 Pontiac Catalina  16.0        8.0         400.0   \n",
      "200                 Ford Gran Torino  14.5        8.0         351.0   \n",
      "222                 Cadillac Seville  16.5        8.0         350.0   \n",
      "239            Pontiac Grand Prix LJ  16.0        8.0         400.0   \n",
      "240     Chevrolet Monte Carlo Landau  15.5        8.0         350.0   \n",
      "241                 Chrysler Cordoba  15.5        8.0         400.0   \n",
      "273  Buick Regal Sport Coupe (turbo)  17.7        6.0         231.0   \n",
      "299          Buick Estate Wagon (sw)  16.9        8.0         350.0   \n",
      "\n",
      "     Horsepower  Weight  Acceleration  Model Origin  \n",
      "1         165.0  3693.0          11.5   70.0     US  \n",
      "5         198.0  4341.0          10.0   70.0     US  \n",
      "6         220.0  4354.0           9.0   70.0     US  \n",
      "7         215.0  4312.0           8.5   70.0     US  \n",
      "8         225.0  4425.0          10.0   70.0     US  \n",
      "9         190.0  3850.0           8.5   70.0     US  \n",
      "18        170.0  3563.0          10.0   70.0     US  \n",
      "19        160.0  3609.0           8.0   70.0     US  \n",
      "22        225.0  3086.0          10.0   70.0     US  \n",
      "34        215.0  4615.0          14.0   70.0     US  \n",
      "35        200.0  4376.0          15.0   70.0     US  \n",
      "36        210.0  4382.0          13.5   70.0     US  \n",
      "37        193.0  4732.0          18.5   70.0     US  \n",
      "49        175.0  4464.0          11.5   71.0     US  \n",
      "52        180.0  4955.0          11.5   71.0     US  \n",
      "53        170.0  4746.0          12.0   71.0     US  \n",
      "54        175.0  5140.0          12.0   71.0     US  \n",
      "72        165.0  4274.0          12.0   72.0     US  \n",
      "73        175.0  4385.0          12.0   72.0     US  \n",
      "75        153.0  4129.0          13.0   72.0     US  \n",
      "77        208.0  4633.0          11.0   72.0     US  \n",
      "78        155.0  4502.0          13.5   72.0     US  \n",
      "79        160.0  4456.0          13.5   72.0     US  \n",
      "80        190.0  4422.0          12.5   72.0     US  \n",
      "95        175.0  4100.0          13.0   73.0     US  \n",
      "102       158.0  4363.0          13.0   73.0     US  \n",
      "104       215.0  4735.0          11.0   73.0     US  \n",
      "105       225.0  4951.0          11.0   73.0     US  \n",
      "106       175.0  3821.0          11.0   73.0     US  \n",
      "114       167.0  4906.0          12.5   73.0     US  \n",
      "115       170.0  4654.0          13.0   73.0     US  \n",
      "116       180.0  4499.0          12.5   73.0     US  \n",
      "126       230.0  4278.0           9.5   73.0     US  \n",
      "134       180.0  3664.0          11.0   73.0     US  \n",
      "166       170.0  4668.0          11.5   75.0     US  \n",
      "200       152.0  4215.0          12.8   76.0     US  \n",
      "222       180.0  4380.0          12.1   76.0     US  \n",
      "239       180.0  4220.0          11.1   77.0     US  \n",
      "240       170.0  4165.0          11.4   77.0     US  \n",
      "241       190.0  4325.0          12.2   77.0     US  \n",
      "273       165.0  3445.0          13.4   78.0     US  \n",
      "299       155.0  4360.0          14.9   79.0     US  \n"
     ]
    }
   ],
   "source": [
    "Cars3=Cars2[Cars2[\"Horsepower\"] > 150] \n",
    "print(Cars3)"
   ]
  },
  {
   "cell_type": "code",
   "execution_count": 107,
   "id": "0d56a575",
   "metadata": {},
   "outputs": [
    {
     "data": {
      "text/plain": [
       "Origin\n",
       "Europe    4.150685\n",
       "Japan     4.102564\n",
       "US        6.290196\n",
       "Name: Cylinders, dtype: float64"
      ]
     },
     "execution_count": 107,
     "metadata": {},
     "output_type": "execute_result"
    }
   ],
   "source": [
    "#Group a DataFrame by a specific column and calculate the average value for each group.\n",
    "Cars.groupby('Origin')['Cylinders'].mean()"
   ]
  },
  {
   "cell_type": "code",
   "execution_count": 111,
   "id": "1225ca53",
   "metadata": {},
   "outputs": [
    {
     "data": {
      "text/html": [
       "<div>\n",
       "<style scoped>\n",
       "    .dataframe tbody tr th:only-of-type {\n",
       "        vertical-align: middle;\n",
       "    }\n",
       "\n",
       "    .dataframe tbody tr th {\n",
       "        vertical-align: top;\n",
       "    }\n",
       "\n",
       "    .dataframe thead th {\n",
       "        text-align: right;\n",
       "    }\n",
       "</style>\n",
       "<table border=\"1\" class=\"dataframe\">\n",
       "  <thead>\n",
       "    <tr style=\"text-align: right;\">\n",
       "      <th></th>\n",
       "      <th>Car Name</th>\n",
       "      <th>MPG</th>\n",
       "      <th>Cylinders</th>\n",
       "      <th>Displacement</th>\n",
       "      <th>Horsepower</th>\n",
       "      <th>Weight</th>\n",
       "      <th>Acceleration</th>\n",
       "      <th>Model</th>\n",
       "      <th>Origin</th>\n",
       "    </tr>\n",
       "  </thead>\n",
       "  <tbody>\n",
       "    <tr>\n",
       "      <th>106</th>\n",
       "      <td>AMC Ambassador Brougham</td>\n",
       "      <td>13.0</td>\n",
       "      <td>8.0</td>\n",
       "      <td>360.0</td>\n",
       "      <td>175.0</td>\n",
       "      <td>3821.0</td>\n",
       "      <td>11.0</td>\n",
       "      <td>73.0</td>\n",
       "      <td>US</td>\n",
       "    </tr>\n",
       "    <tr>\n",
       "      <th>9</th>\n",
       "      <td>AMC Ambassador DPL</td>\n",
       "      <td>15.0</td>\n",
       "      <td>8.0</td>\n",
       "      <td>390.0</td>\n",
       "      <td>190.0</td>\n",
       "      <td>3850.0</td>\n",
       "      <td>8.5</td>\n",
       "      <td>70.0</td>\n",
       "      <td>US</td>\n",
       "    </tr>\n",
       "    <tr>\n",
       "      <th>76</th>\n",
       "      <td>AMC Ambassador SST</td>\n",
       "      <td>17.0</td>\n",
       "      <td>8.0</td>\n",
       "      <td>304.0</td>\n",
       "      <td>150.0</td>\n",
       "      <td>3672.0</td>\n",
       "      <td>11.5</td>\n",
       "      <td>72.0</td>\n",
       "      <td>US</td>\n",
       "    </tr>\n",
       "    <tr>\n",
       "      <th>267</th>\n",
       "      <td>AMC Concord</td>\n",
       "      <td>19.4</td>\n",
       "      <td>6.0</td>\n",
       "      <td>232.0</td>\n",
       "      <td>90.0</td>\n",
       "      <td>3210.0</td>\n",
       "      <td>17.2</td>\n",
       "      <td>78.0</td>\n",
       "      <td>US</td>\n",
       "    </tr>\n",
       "    <tr>\n",
       "      <th>325</th>\n",
       "      <td>AMC Concord</td>\n",
       "      <td>24.3</td>\n",
       "      <td>4.0</td>\n",
       "      <td>151.0</td>\n",
       "      <td>90.0</td>\n",
       "      <td>3003.0</td>\n",
       "      <td>20.1</td>\n",
       "      <td>80.0</td>\n",
       "      <td>US</td>\n",
       "    </tr>\n",
       "    <tr>\n",
       "      <th>...</th>\n",
       "      <td>...</td>\n",
       "      <td>...</td>\n",
       "      <td>...</td>\n",
       "      <td>...</td>\n",
       "      <td>...</td>\n",
       "      <td>...</td>\n",
       "      <td>...</td>\n",
       "      <td>...</td>\n",
       "      <td>...</td>\n",
       "    </tr>\n",
       "    <tr>\n",
       "      <th>86</th>\n",
       "      <td>Volvo 145e (sw)</td>\n",
       "      <td>18.0</td>\n",
       "      <td>4.0</td>\n",
       "      <td>121.0</td>\n",
       "      <td>112.0</td>\n",
       "      <td>NaN</td>\n",
       "      <td>14.5</td>\n",
       "      <td>72.0</td>\n",
       "      <td>Europe</td>\n",
       "    </tr>\n",
       "    <tr>\n",
       "      <th>189</th>\n",
       "      <td>Volvo 244DL</td>\n",
       "      <td>22.0</td>\n",
       "      <td>4.0</td>\n",
       "      <td>121.0</td>\n",
       "      <td>98.0</td>\n",
       "      <td>2945.0</td>\n",
       "      <td>14.5</td>\n",
       "      <td>75.0</td>\n",
       "      <td>Europe</td>\n",
       "    </tr>\n",
       "    <tr>\n",
       "      <th>217</th>\n",
       "      <td>Volvo 245</td>\n",
       "      <td>20.0</td>\n",
       "      <td>4.0</td>\n",
       "      <td>130.0</td>\n",
       "      <td>102.0</td>\n",
       "      <td>3150.0</td>\n",
       "      <td>15.7</td>\n",
       "      <td>76.0</td>\n",
       "      <td>Europe</td>\n",
       "    </tr>\n",
       "    <tr>\n",
       "      <th>285</th>\n",
       "      <td>Volvo 264gl</td>\n",
       "      <td>17.0</td>\n",
       "      <td>6.0</td>\n",
       "      <td>163.0</td>\n",
       "      <td>125.0</td>\n",
       "      <td>3140.0</td>\n",
       "      <td>13.6</td>\n",
       "      <td>78.0</td>\n",
       "      <td>Europe</td>\n",
       "    </tr>\n",
       "    <tr>\n",
       "      <th>371</th>\n",
       "      <td>Volvo Diesel</td>\n",
       "      <td>30.7</td>\n",
       "      <td>6.0</td>\n",
       "      <td>145.0</td>\n",
       "      <td>76.0</td>\n",
       "      <td>3160.0</td>\n",
       "      <td>19.6</td>\n",
       "      <td>81.0</td>\n",
       "      <td>Europe</td>\n",
       "    </tr>\n",
       "  </tbody>\n",
       "</table>\n",
       "<p>409 rows × 9 columns</p>\n",
       "</div>"
      ],
      "text/plain": [
       "                    Car Name   MPG  Cylinders  Displacement  Horsepower  \\\n",
       "106  AMC Ambassador Brougham  13.0        8.0         360.0       175.0   \n",
       "9         AMC Ambassador DPL  15.0        8.0         390.0       190.0   \n",
       "76        AMC Ambassador SST  17.0        8.0         304.0       150.0   \n",
       "267              AMC Concord  19.4        6.0         232.0        90.0   \n",
       "325              AMC Concord  24.3        4.0         151.0        90.0   \n",
       "..                       ...   ...        ...           ...         ...   \n",
       "86           Volvo 145e (sw)  18.0        4.0         121.0       112.0   \n",
       "189              Volvo 244DL  22.0        4.0         121.0        98.0   \n",
       "217                Volvo 245  20.0        4.0         130.0       102.0   \n",
       "285              Volvo 264gl  17.0        6.0         163.0       125.0   \n",
       "371             Volvo Diesel  30.7        6.0         145.0        76.0   \n",
       "\n",
       "     Weight  Acceleration  Model  Origin  \n",
       "106  3821.0          11.0   73.0      US  \n",
       "9    3850.0           8.5   70.0      US  \n",
       "76   3672.0          11.5   72.0      US  \n",
       "267  3210.0          17.2   78.0      US  \n",
       "325  3003.0          20.1   80.0      US  \n",
       "..      ...           ...    ...     ...  \n",
       "86      NaN          14.5   72.0  Europe  \n",
       "189  2945.0          14.5   75.0  Europe  \n",
       "217  3150.0          15.7   76.0  Europe  \n",
       "285  3140.0          13.6   78.0  Europe  \n",
       "371  3160.0          19.6   81.0  Europe  \n",
       "\n",
       "[409 rows x 9 columns]"
      ]
     },
     "execution_count": 111,
     "metadata": {},
     "output_type": "execute_result"
    }
   ],
   "source": [
    "#Sort a DataFrame based on values in a specific column\n",
    "Cars.sort_values(\"Car Name\")"
   ]
  },
  {
   "cell_type": "code",
   "execution_count": 113,
   "id": "563eff84",
   "metadata": {},
   "outputs": [
    {
     "name": "stdout",
     "output_type": "stream",
     "text": [
      "                      Car Name   MPG  Cylinders  Displacement  Horsepower  \\\n",
      "0    Chevrolet Chevelle Malibu  18.0        8.0         307.0       130.0   \n",
      "1            Buick Skylark 320  15.0        8.0         350.0       165.0   \n",
      "2           Plymouth Satellite  18.0        8.0         318.0       150.0   \n",
      "3                AMC Rebel SST  16.0        8.0         304.0       150.0   \n",
      "4                  Ford Torino  17.0        8.0         302.0       140.0   \n",
      "..                         ...   ...        ...           ...         ...   \n",
      "404            Ford Mustang GL  27.0        4.0         140.0        86.0   \n",
      "405          Volkswagen Pickup  44.0        4.0          97.0        52.0   \n",
      "406              Dodge Rampage  32.0        4.0         135.0        84.0   \n",
      "407                Ford Ranger  28.0        4.0         120.0        79.0   \n",
      "408                 Chevy S-10  31.0        4.0         119.0        82.0   \n",
      "\n",
      "     Weight  Acceleration  Model  Origin  Based on Weight   \n",
      "0    3504.0          12.0   70.0      US       High Weight  \n",
      "1    3693.0          11.5   70.0      US       High Weight  \n",
      "2    3436.0          11.0   70.0      US       High Weight  \n",
      "3    3433.0          12.0   70.0      US       High Weight  \n",
      "4    3449.0          10.5   70.0      US       High Weight  \n",
      "..      ...           ...    ...     ...               ...  \n",
      "404  2790.0          15.6   82.0      US     Medium Weight  \n",
      "405  2130.0          24.6   82.0  Europe     Medium Weight  \n",
      "406  2295.0          11.6   82.0      US     Medium Weight  \n",
      "407  2625.0          18.6   82.0      US     Medium Weight  \n",
      "408  2720.0          19.4   82.0      US     Medium Weight  \n",
      "\n",
      "[409 rows x 10 columns]\n"
     ]
    }
   ],
   "source": [
    "def categorize_weight(Weight):\n",
    "    if Weight < 1500:\n",
    "        return 'Low Weight'\n",
    "    elif Weight < 3000:\n",
    "        return 'Medium Weight'\n",
    "    else:\n",
    "        return 'High Weight'\n",
    "Cars[' Based on Weight '] = Cars['Weight'].apply(categorize_weight)\n",
    "print(Cars)"
   ]
  },
  {
   "cell_type": "code",
   "execution_count": 128,
   "id": "d74b844d",
   "metadata": {},
   "outputs": [
    {
     "name": "stdout",
     "output_type": "stream",
     "text": [
      "                      Car Name   MPG  Cylinders  Displacement  Horsepower  \\\n",
      "0    Chevrolet Chevelle Malibu  18.0        8.0         307.0       130.0   \n",
      "1            Buick Skylark 320  15.0        8.0         350.0       165.0   \n",
      "2           Plymouth Satellite  18.0        8.0         318.0       150.0   \n",
      "3                AMC Rebel SST  16.0        8.0         304.0       150.0   \n",
      "4                  Ford Torino  17.0        8.0         302.0       140.0   \n",
      "..                         ...   ...        ...           ...         ...   \n",
      "404            Ford Mustang GL  27.0        4.0         140.0        86.0   \n",
      "405          Volkswagen Pickup  44.0        4.0          97.0        52.0   \n",
      "406              Dodge Rampage  32.0        4.0         135.0        84.0   \n",
      "407                Ford Ranger  28.0        4.0         120.0        79.0   \n",
      "408                 Chevy S-10  31.0        4.0         119.0        82.0   \n",
      "\n",
      "     Weight  Acceleration  Model  Origin  Based on Weight   \n",
      "0    3504.0          12.0   70.0      US       High Weight  \n",
      "1    3693.0          11.5   70.0      US       High Weight  \n",
      "2    3436.0          11.0   70.0      US       High Weight  \n",
      "3    3433.0          12.0   70.0      US       High Weight  \n",
      "4    3449.0          10.5   70.0      US       High Weight  \n",
      "..      ...           ...    ...     ...               ...  \n",
      "404  2790.0          15.6   82.0      US     Medium Weight  \n",
      "405  2130.0          24.6   82.0  Europe     Medium Weight  \n",
      "406  2295.0          11.6   82.0      US     Medium Weight  \n",
      "407  2625.0          18.6   82.0      US     Medium Weight  \n",
      "408  2720.0          19.4   82.0      US     Medium Weight  \n",
      "\n",
      "[409 rows x 10 columns]\n"
     ]
    }
   ],
   "source": [
    "#A new column in a DataFrame based on values from existing columns\n",
    "def categorize_weight(Weight):\n",
    "    if Weight < 1500:\n",
    "        return 'Low Weight'\n",
    "    if 1500 <= Weight < 3000:\n",
    "        return 'Medium Weight'\n",
    "    else: \n",
    "        return 'High Weight'\n",
    "Cars[' Based on Weight '] = Cars['Weight'].apply(categorize_weight)\n",
    "print(Cars)"
   ]
  },
  {
   "cell_type": "code",
   "execution_count": 153,
   "id": "f4ceaee8",
   "metadata": {},
   "outputs": [
    {
     "name": "stdout",
     "output_type": "stream",
     "text": [
      "                      Car Name   MPG  Cylinders  Displacement  Horsepower  \\\n",
      "0    Chevrolet Chevelle Malibu  18.0        8.0         307.0       130.0   \n",
      "1            Buick Skylark 320  15.0        8.0         350.0       165.0   \n",
      "2           Plymouth Satellite  18.0        8.0         318.0       150.0   \n",
      "3                AMC Rebel SST  16.0        8.0         304.0       150.0   \n",
      "4                  Ford Torino  17.0        8.0         302.0       140.0   \n",
      "..                         ...   ...        ...           ...         ...   \n",
      "404            Ford Mustang GL  27.0        4.0         140.0        86.0   \n",
      "405          Volkswagen Pickup  44.0        4.0          97.0        52.0   \n",
      "406              Dodge Rampage  32.0        4.0         135.0        84.0   \n",
      "407                Ford Ranger  28.0        4.0         120.0        79.0   \n",
      "408                 Chevy S-10  31.0        4.0         119.0        82.0   \n",
      "\n",
      "     Weight  Acceleration  Model  Origin  Based on Weight   \n",
      "0    3504.0          12.0   70.0      US       High Weight  \n",
      "1    3693.0          11.5   70.0      US       High Weight  \n",
      "2    3436.0          11.0   70.0      US       High Weight  \n",
      "3    3433.0          12.0   70.0      US       High Weight  \n",
      "4    3449.0          10.5   70.0      US       High Weight  \n",
      "..      ...           ...    ...     ...               ...  \n",
      "404  2790.0          15.6   82.0      US     Medium Weight  \n",
      "405  2130.0          24.6   82.0  Europe     Medium Weight  \n",
      "406  2295.0          11.6   82.0      US     Medium Weight  \n",
      "407  2625.0          18.6   82.0      US     Medium Weight  \n",
      "408  2720.0          19.4   82.0      US     Medium Weight  \n",
      "\n",
      "[406 rows x 10 columns]\n"
     ]
    }
   ],
   "source": [
    "#Remove duplicate rows from a DataFrame\n",
    "Duplicate=Cars.drop_duplicates()\n",
    "print(Duplicate)"
   ]
  },
  {
   "cell_type": "code",
   "execution_count": 131,
   "id": "af71a2f4",
   "metadata": {},
   "outputs": [
    {
     "name": "stdout",
     "output_type": "stream",
     "text": [
      "                   MPG  Cylinders  Displacement  Horsepower    Weight  \\\n",
      "MPG           1.000000  -0.737080     -0.767657   -0.731210 -0.786019   \n",
      "Cylinders    -0.737080   1.000000      0.952242    0.824354  0.896523   \n",
      "Displacement -0.767657   0.952242      1.000000    0.875277  0.933353   \n",
      "Horsepower   -0.731210   0.824354      0.875277    1.000000  0.841886   \n",
      "Weight       -0.786019   0.896523      0.933353    0.841886  1.000000   \n",
      "Acceleration  0.437948  -0.526609     -0.564458   -0.687337 -0.435457   \n",
      "Model         0.598756  -0.372799     -0.398317   -0.429290 -0.330692   \n",
      "\n",
      "              Acceleration     Model  \n",
      "MPG               0.437948  0.598756  \n",
      "Cylinders        -0.526609 -0.372799  \n",
      "Displacement     -0.564458 -0.398317  \n",
      "Horsepower       -0.687337 -0.429290  \n",
      "Weight           -0.435457 -0.330692  \n",
      "Acceleration      1.000000  0.315059  \n",
      "Model             0.315059  1.000000  \n"
     ]
    }
   ],
   "source": [
    "# Correlation matrix for a DataFrame\n",
    "Corr_Matrix = Cars.corr()\n",
    "print(Corr_Matrix)"
   ]
  },
  {
   "cell_type": "code",
   "execution_count": 184,
   "id": "ce1c7baa",
   "metadata": {},
   "outputs": [
    {
     "name": "stdout",
     "output_type": "stream",
     "text": [
      "                         Car Name                                           \\\n",
      "Origin                         US Europe Japan       NaN   US Japan Europe   \n",
      "Model                        70.0   70.0  70.0  NaN 71.0 71.0  71.0   71.0   \n",
      "0       Chevrolet Chevelle Malibu    NaN   NaN  NaN  NaN  NaN   NaN    NaN   \n",
      "1               Buick Skylark 320    NaN   NaN  NaN  NaN  NaN   NaN    NaN   \n",
      "2              Plymouth Satellite    NaN   NaN  NaN  NaN  NaN   NaN    NaN   \n",
      "3                   Amc Rebel Sst    NaN   NaN  NaN  NaN  NaN   NaN    NaN   \n",
      "4                     Ford Torino    NaN   NaN  NaN  NaN  NaN   NaN    NaN   \n",
      "..                            ...    ...   ...  ...  ...  ...   ...    ...   \n",
      "404                           NaN    NaN   NaN  NaN  NaN  NaN   NaN    NaN   \n",
      "405                           NaN    NaN   NaN  NaN  NaN  NaN   NaN    NaN   \n",
      "406                           NaN    NaN   NaN  NaN  NaN  NaN   NaN    NaN   \n",
      "407                           NaN    NaN   NaN  NaN  NaN  NaN   NaN    NaN   \n",
      "408                           NaN    NaN   NaN  NaN  NaN  NaN   NaN    NaN   \n",
      "\n",
      "                   ...  Based on Weight                                       \\\n",
      "Origin Japan   US  ...             Japan Europe Japan   US      Japan Europe   \n",
      "Model   72.0 72.0  ...              79.0   80.0  80.0 80.0 81.0  81.0   81.0   \n",
      "0        NaN  NaN  ...               NaN    NaN   NaN  NaN  NaN   NaN    NaN   \n",
      "1        NaN  NaN  ...               NaN    NaN   NaN  NaN  NaN   NaN    NaN   \n",
      "2        NaN  NaN  ...               NaN    NaN   NaN  NaN  NaN   NaN    NaN   \n",
      "3        NaN  NaN  ...               NaN    NaN   NaN  NaN  NaN   NaN    NaN   \n",
      "4        NaN  NaN  ...               NaN    NaN   NaN  NaN  NaN   NaN    NaN   \n",
      "..       ...  ...  ...               ...    ...   ...  ...  ...   ...    ...   \n",
      "404      NaN  NaN  ...               NaN    NaN   NaN  NaN  NaN   NaN    NaN   \n",
      "405      NaN  NaN  ...               NaN    NaN   NaN  NaN  NaN   NaN    NaN   \n",
      "406      NaN  NaN  ...               NaN    NaN   NaN  NaN  NaN   NaN    NaN   \n",
      "407      NaN  NaN  ...               NaN    NaN   NaN  NaN  NaN   NaN    NaN   \n",
      "408      NaN  NaN  ...               NaN    NaN   NaN  NaN  NaN   NaN    NaN   \n",
      "\n",
      "                                            \n",
      "Origin             US         Europe Japan  \n",
      "Model            82.0           82.0  82.0  \n",
      "0                 NaN            NaN   NaN  \n",
      "1                 NaN            NaN   NaN  \n",
      "2                 NaN            NaN   NaN  \n",
      "3                 NaN            NaN   NaN  \n",
      "4                 NaN            NaN   NaN  \n",
      "..                ...            ...   ...  \n",
      "404     Medium Weight            NaN   NaN  \n",
      "405               NaN  Medium Weight   NaN  \n",
      "406     Medium Weight            NaN   NaN  \n",
      "407     Medium Weight            NaN   NaN  \n",
      "408     Medium Weight            NaN   NaN  \n",
      "\n",
      "[409 rows x 336 columns]\n"
     ]
    }
   ],
   "source": [
    "Reshape = pd.pivot(Cars, columns=[\"Origin\",\"Model\"])\n",
    "print(Reshape)"
   ]
  },
  {
   "cell_type": "code",
   "execution_count": 167,
   "id": "65a7e570",
   "metadata": {},
   "outputs": [],
   "source": []
  },
  {
   "cell_type": "code",
   "execution_count": 169,
   "id": "f247c375",
   "metadata": {},
   "outputs": [
    {
     "name": "stdout",
     "output_type": "stream",
     "text": [
      "0      Chevrolet Chevelle Malibu\n",
      "1              Buick Skylark 320\n",
      "2             Plymouth Satellite\n",
      "3                  Amc Rebel Sst\n",
      "4                    Ford Torino\n",
      "                 ...            \n",
      "404              Ford Mustang Gl\n",
      "405            Volkswagen Pickup\n",
      "406                Dodge Rampage\n",
      "407                  Ford Ranger\n",
      "408                   Chevy S-10\n",
      "Name: Car Name, Length: 409, dtype: object\n"
     ]
    }
   ],
   "source": [
    "#Apply a function to each element in a specific column of a DataFrame\n",
    "Cars['Car Name'] = Cars['Car Name'].str.title()\n",
    "print(Cars['Car Name'])\n"
   ]
  },
  {
   "cell_type": "code",
   "execution_count": 175,
   "id": "e34532b6",
   "metadata": {},
   "outputs": [
    {
     "name": "stdout",
     "output_type": "stream",
     "text": [
      "<bound method DataFrame.rename of                       Car Name  miles per gallon  Cylinders  Displacement  \\\n",
      "0    Chevrolet Chevelle Malibu              18.0        8.0         307.0   \n",
      "1            Buick Skylark 320              15.0        8.0         350.0   \n",
      "2           Plymouth Satellite              18.0        8.0         318.0   \n",
      "3                Amc Rebel Sst              16.0        8.0         304.0   \n",
      "4                  Ford Torino              17.0        8.0         302.0   \n",
      "..                         ...               ...        ...           ...   \n",
      "404            Ford Mustang Gl              27.0        4.0         140.0   \n",
      "405          Volkswagen Pickup              44.0        4.0          97.0   \n",
      "406              Dodge Rampage              32.0        4.0         135.0   \n",
      "407                Ford Ranger              28.0        4.0         120.0   \n",
      "408                 Chevy S-10              31.0        4.0         119.0   \n",
      "\n",
      "     Horsepower  Weight  Acceleration  Model  Origin  Based on Weight   \n",
      "0         130.0  3504.0          12.0   70.0      US       High Weight  \n",
      "1         165.0  3693.0          11.5   70.0      US       High Weight  \n",
      "2         150.0  3436.0          11.0   70.0      US       High Weight  \n",
      "3         150.0  3433.0          12.0   70.0      US       High Weight  \n",
      "4         140.0  3449.0          10.5   70.0      US       High Weight  \n",
      "..          ...     ...           ...    ...     ...               ...  \n",
      "404        86.0  2790.0          15.6   82.0      US     Medium Weight  \n",
      "405        52.0  2130.0          24.6   82.0  Europe     Medium Weight  \n",
      "406        84.0  2295.0          11.6   82.0      US     Medium Weight  \n",
      "407        79.0  2625.0          18.6   82.0      US     Medium Weight  \n",
      "408        82.0  2720.0          19.4   82.0      US     Medium Weight  \n",
      "\n",
      "[409 rows x 10 columns]>\n"
     ]
    }
   ],
   "source": [
    "#Rename the columns of a DataFrame\n",
    "Cars.rename(columns = {'MPG':'miles per gallon'}, inplace = True)\n",
    "print(Cars.rename)"
   ]
  },
  {
   "cell_type": "code",
   "execution_count": null,
   "id": "3a26d796",
   "metadata": {},
   "outputs": [],
   "source": [
    "#Save a DataFrame to a CSV file\n",
    "Cars.to_csv(r'C:/Users/Lenovo/Downloads/Cars(NEW).csv')"
   ]
  },
  {
   "cell_type": "code",
   "execution_count": null,
   "id": "eab2f616",
   "metadata": {},
   "outputs": [],
   "source": []
  },
  {
   "cell_type": "code",
   "execution_count": null,
   "id": "b2e172b7",
   "metadata": {},
   "outputs": [],
   "source": []
  }
 ],
 "metadata": {
  "kernelspec": {
   "display_name": "Python 3 (ipykernel)",
   "language": "python",
   "name": "python3"
  },
  "language_info": {
   "codemirror_mode": {
    "name": "ipython",
    "version": 3
   },
   "file_extension": ".py",
   "mimetype": "text/x-python",
   "name": "python",
   "nbconvert_exporter": "python",
   "pygments_lexer": "ipython3",
   "version": "3.9.12"
  }
 },
 "nbformat": 4,
 "nbformat_minor": 5
}
