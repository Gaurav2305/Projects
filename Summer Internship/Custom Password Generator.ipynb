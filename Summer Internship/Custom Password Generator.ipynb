{
 "cells": [
  {
   "cell_type": "markdown",
   "id": "22d6082c",
   "metadata": {},
   "source": [
    "# Custom Password Generator"
   ]
  },
  {
   "cell_type": "code",
   "execution_count": 1,
   "id": "2e66c192",
   "metadata": {},
   "outputs": [],
   "source": [
    "import random\n",
    "import string"
   ]
  },
  {
   "cell_type": "code",
   "execution_count": 22,
   "id": "a57e0129",
   "metadata": {},
   "outputs": [
    {
     "name": "stdout",
     "output_type": "stream",
     "text": [
      "Enter the password length: 20\n",
      "Add lowercase letters? (yes/no): yes\n",
      "Add uppercase letters? (yes/no): yes\n",
      "Add digits? (yes/no): yes\n",
      "Add special characters? (yes/no): yes\n",
      "Password generated: >$f%PK}ey_tvD};8G!oL\n"
     ]
    }
   ],
   "source": [
    "#Take user input for password\n",
    "password_length = int(input(\"Enter the password length: \"))\n",
    "\n",
    "# Accessing the characters from the string module\n",
    "characters = string.ascii_lowercase + string.ascii_uppercase + string.digits + string.punctuation\n",
    "\n",
    "# Asking user to include or not to include the particular character\n",
    "lowercase_letters = input(\"Add lowercase letters? (yes/no): \").lower()\n",
    "uppercase_letters = input(\"Add uppercase letters? (yes/no): \").lower()\n",
    "digits = input(\"Add digits? (yes/no): \").lower()\n",
    "special_characters = input(\"Add special characters? (yes/no): \").lower()\n",
    "\n",
    "# Create a list to store the character types to be included in the password\n",
    "selected_characters = \"\"\n",
    "if lowercase_letters == 'yes':\n",
    "    selected_characters += string.ascii_lowercase\n",
    "if uppercase_letters == 'yes':\n",
    "    selected_characters += string.ascii_uppercase\n",
    "if digits == 'yes':\n",
    "    selected_characters += string.digits\n",
    "if special_characters == 'yes':\n",
    "    selected_characters += string.punctuation\n",
    "\n",
    "# Check if at least one character type is selected\n",
    "if not selected_characters:\n",
    "    print(\"You must select at least one character type.\")\n",
    "else:\n",
    "    password = \"\"\n",
    "    for i in range(password_length):\n",
    "        password += random.choice(selected_characters)\n",
    "\n",
    "    print(\"Password generated: {}\".format(password))\n"
   ]
  },
  {
   "cell_type": "code",
   "execution_count": null,
   "id": "ecc4fcd2",
   "metadata": {},
   "outputs": [],
   "source": []
  }
 ],
 "metadata": {
  "kernelspec": {
   "display_name": "Python 3 (ipykernel)",
   "language": "python",
   "name": "python3"
  },
  "language_info": {
   "codemirror_mode": {
    "name": "ipython",
    "version": 3
   },
   "file_extension": ".py",
   "mimetype": "text/x-python",
   "name": "python",
   "nbconvert_exporter": "python",
   "pygments_lexer": "ipython3",
   "version": "3.9.12"
  }
 },
 "nbformat": 4,
 "nbformat_minor": 5
}
