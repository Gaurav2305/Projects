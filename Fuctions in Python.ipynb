{
 "cells": [
  {
   "cell_type": "markdown",
   "id": "9840173d",
   "metadata": {},
   "source": [
    "# Functions in Python "
   ]
  },
  {
   "cell_type": "code",
   "execution_count": 4,
   "id": "c17064d0",
   "metadata": {},
   "outputs": [
    {
     "name": "stdout",
     "output_type": "stream",
     "text": [
      "Enter a string:    Hi my name is Gaurav\n",
      "The total number of vowels in string is: 7\n"
     ]
    }
   ],
   "source": [
    "#A function that takes a string as input and returns the number of vowels in the string\n",
    "str1 = input(\"Enter a string:    \")\n",
    "\n",
    "\n",
    "count=0  # Initializing count variable\n",
    "\n",
    "i=0\n",
    "\n",
    "for i in range (len(str1)):\n",
    "    if (\n",
    "        (str1[i] == \"a\")\n",
    "        or (str1[i] == \"e\")\n",
    "        or (str1[i] == \"i\")\n",
    "        or (str1[i] == \"o\")\n",
    "        or (str1[i] == \"u\")\n",
    "    ):\n",
    "        count += 1\n",
    "print(\"The total number of vowels in string is:\", count)        "
   ]
  },
  {
   "cell_type": "code",
   "execution_count": null,
   "id": "781b20a8",
   "metadata": {},
   "outputs": [],
   "source": []
  },
  {
   "cell_type": "code",
   "execution_count": 36,
   "id": "edb08ff0",
   "metadata": {},
   "outputs": [
    {
     "name": "stdout",
     "output_type": "stream",
     "text": [
      "Enter any Number: 3\n",
      "3 is a prime number\n"
     ]
    }
   ],
   "source": [
    "# A function that checks if a given number is prime or not\n",
    "\n",
    "n = int(input(\"Enter any Number: \"))\n",
    "                                     # To check if the number is greater than 1\n",
    "if n > 1:  \n",
    "    for i in range(2, int(n/2)+1):\n",
    "        if (n % i) == 0:\n",
    "            print(n, \"is not a prime number\")\n",
    "        break\n",
    "    else:\n",
    "        print(n, \"is a prime number\")\n",
    "                                     # If the number is less than 1, its also not a prime number.\n",
    "else:\n",
    "    print(n, \"is not a prime number\")\n",
    "        "
   ]
  },
  {
   "cell_type": "code",
   "execution_count": 40,
   "id": "2f0f4506",
   "metadata": {},
   "outputs": [
    {
     "name": "stdout",
     "output_type": "stream",
     "text": [
      "Enter the elements for the list: \n",
      "12345\n",
      "13245\n",
      "1245\n",
      "155612\n",
      "151\n",
      "\n",
      "Sum of Even Numbers is 155612\n"
     ]
    }
   ],
   "source": [
    "# A function that takes a list of numbers as input and returns the sum of all the even numbers in the list.\n",
    "\n",
    "nums = []\n",
    "print(\"Enter the elements for the list: \")\n",
    "for i in range(5):\n",
    "    val = int(input())\n",
    "    nums.append(val)\n",
    "\n",
    "sum = 0\n",
    "\n",
    "for i in range(5):\n",
    "    if nums[i]%2 == 0:\n",
    "        sum = sum + nums[i]\n",
    "\n",
    "print(\"\\nSum of Even Numbers is\", sum)"
   ]
  },
  {
   "cell_type": "code",
   "execution_count": 45,
   "id": "cbf235b0",
   "metadata": {},
   "outputs": [
    {
     "name": "stdout",
     "output_type": "stream",
     "text": [
      "bat\n",
      "rat\n",
      "String value1 :  bat\n",
      "String value2 :  rat\n",
      "Both strings are not an Anagram.\n"
     ]
    }
   ],
   "source": [
    "# A function that takes two strings as input and checks if they are anagrams of each other\n",
    "I1 = input()\n",
    "I2 = input()\n",
    "\n",
    "def Anagram_check(I1, I2):  \n",
    "                                    # Strings are sorted and check whether both are matching or not  \n",
    "    if(sorted(I1)== sorted(I2)):  \n",
    "        print(\"Both strings are an Anagram.\")  \n",
    "    else:  \n",
    "        print(\"Both strings are not an Anagram.\")  \n",
    "         \n",
    "print( \"String value1 : \", I1 )  \n",
    "print( \"String value2 : \", I2 )  \n",
    "Anagram_check(I1, I2) "
   ]
  },
  {
   "cell_type": "code",
   "execution_count": 56,
   "id": "bf6e1826",
   "metadata": {},
   "outputs": [
    {
     "name": "stdout",
     "output_type": "stream",
     "text": [
      "12345655\n",
      "['1', '3', '4', '2', '6', '5']\n"
     ]
    }
   ],
   "source": [
    "#A function that takes a list of integers as input and returns a new list with only the unique elements in the original list.\n",
    "N= input()\n",
    "\n",
    "def get_unique_numbers(N):\n",
    "\n",
    "    list_of_unique_numbers = []\n",
    "\n",
    "    unique_numbers = set(N)\n",
    "\n",
    "    for N in unique_numbers:\n",
    "        list_of_unique_numbers.append(N)\n",
    "\n",
    "    return list_of_unique_numbers\n",
    "\n",
    "\n",
    "print(get_unique_numbers(N))"
   ]
  },
  {
   "cell_type": "code",
   "execution_count": 57,
   "id": "f80a84dd",
   "metadata": {},
   "outputs": [
    {
     "name": "stdout",
     "output_type": "stream",
     "text": [
      "Gaurav Gavali\n",
      "Reversed string: ilavaG varuaG\n"
     ]
    }
   ],
   "source": [
    "# A function that reverses a given string without using the reverse() function or slicing.\n",
    "string=input()\n",
    "str=\"\"\n",
    "for i in string:\n",
    "    str=i+str\n",
    "print(\"Reversed string:\",str)"
   ]
  },
  {
   "cell_type": "code",
   "execution_count": 83,
   "id": "f8bb653d",
   "metadata": {},
   "outputs": [
    {
     "name": "stdout",
     "output_type": "stream",
     "text": [
      "cat,mother,battery,documentation\n",
      "The word with the longest length is: documentation\n"
     ]
    }
   ],
   "source": [
    "# A function that takes a list of words as input and returns the longest word in the list\n",
    "a= input().split(\",\")\n",
    "def longestLength(words):\n",
    "    finalList = []\n",
    "     \n",
    "    for word in words:\n",
    "        finalList.append((len(word), word))\n",
    "     \n",
    "    finalList.sort()\n",
    "     \n",
    "    print(\"The word with the longest length is:\", finalList[-1][1])\n",
    "\n",
    "longestLength(a)"
   ]
  },
  {
   "cell_type": "code",
   "execution_count": 84,
   "id": "710828ea",
   "metadata": {},
   "outputs": [
    {
     "name": "stdout",
     "output_type": "stream",
     "text": [
      "5\n",
      "The factorial of 5 is 120\n"
     ]
    }
   ],
   "source": [
    "#A function that calculates the factorial of a given number using recursion.\n",
    "\n",
    "def recur_factorial(n):\n",
    "    if n == 1:\n",
    "        return n\n",
    "    else:\n",
    "        return n*recur_factorial(n-1)\n",
    "\n",
    "num = int(input())\n",
    "                                                  #To check if the number is negative\n",
    "if num < 0:\n",
    "    print(\"Sorry, factorial does not exist for negative numbers\")\n",
    "elif num == 0:\n",
    "    print(\"The factorial of 0 is 1\")\n",
    "else:\n",
    "    print(\"The factorial of\", num, \"is\", recur_factorial(num))\n"
   ]
  },
  {
   "cell_type": "code",
   "execution_count": 87,
   "id": "5b2eb965",
   "metadata": {},
   "outputs": [
    {
     "name": "stdout",
     "output_type": "stream",
     "text": [
      "xerox gaurav place car\n",
      "['car', 'gaurav', 'place', 'xerox']\n"
     ]
    }
   ],
   "source": [
    "#A function that takes a list of strings as input and returns a new list with the strings sorted in alphabetical order\n",
    "str2 = input().split()\n",
    "str2.sort()\n",
    "print(str2)"
   ]
  },
  {
   "cell_type": "code",
   "execution_count": 95,
   "id": "cb5e18e3",
   "metadata": {},
   "outputs": [
    {
     "name": "stdout",
     "output_type": "stream",
     "text": [
      "Enter employee's name: Gaurav\n",
      "Enter employee's salary: 100\n",
      "Enter employee's name: Pratik\n",
      "Enter employee's salary: 200\n",
      "Enter employee's name: Prafulla\n",
      "Enter employee's salary: 500\n",
      "{'Gaurav': '100', 'Pratik': '200', 'Prafulla': '500'}\n",
      "{'100': 'Gaurav', '200': 'Pratik', '500': 'Prafulla'}\n"
     ]
    }
   ],
   "source": [
    "# A function that takes a dictionary as input and returns a new dictionary where the keys and values are swapped\n",
    "dict = {}\n",
    "\n",
    "for i in range(3):\n",
    "    name = input(\"Enter employee's name: \")\n",
    "    salary = input(\"Enter employee's salary: \")\n",
    "\n",
    "    dict[name] = salary\n",
    "new_dict = {value:key for key, value in dict.items()}\n",
    "print(dict)\n",
    "print(new_dict)\n"
   ]
  },
  {
   "cell_type": "markdown",
   "id": "a1adbc94",
   "metadata": {},
   "source": [
    "# Numpy & Function "
   ]
  },
  {
   "cell_type": "code",
   "execution_count": 101,
   "id": "45eb0b6d",
   "metadata": {},
   "outputs": [
    {
     "name": "stdout",
     "output_type": "stream",
     "text": [
      "Original array:\n",
      "[1 2 3 4 5 1 2 1 1 1]\n",
      "Most frequent value in the above array:\n",
      "1\n"
     ]
    }
   ],
   "source": [
    "\n",
    "import numpy as np\n",
    "\n",
    "# A NumPy program to find the most frequent value in an array\n",
    "x = np.array([1,2,3,4,5,1,2,1,1,1])\n",
    "print(\"Original array:\")\n",
    "print(x)\n",
    "\n",
    "print(\"Most frequent value in the above array:\")\n",
    "print(np.bincount(x).argmax())\n"
   ]
  },
  {
   "cell_type": "code",
   "execution_count": 103,
   "id": "c45c42f0",
   "metadata": {},
   "outputs": [
    {
     "name": "stdout",
     "output_type": "stream",
     "text": [
      "matrix: \n",
      " [[10 20]\n",
      " [30 40]]\n",
      "\n",
      "Sum of all the rows:  [[40 60]]\n",
      "\n",
      "Sum of all the columns: \n",
      " [[30]\n",
      " [70]]\n"
     ]
    }
   ],
   "source": [
    "#Given a 2D NumPy array, write a program to find the sum of each row and each column\n",
    "a = np.matrix('10 20; 30 40')\n",
    "print(\"matrix: \\n\", a)\n",
    "\n",
    "sum_of_rows = np.sum(a, axis = 0)\n",
    "print(\"\\nSum of all the rows: \", sum_of_rows)\n",
    "\n",
    "sum_of_cols = np.sum(a, axis = 1)\n",
    "print(\"\\nSum of all the columns: \\n\", sum_of_cols)"
   ]
  },
  {
   "cell_type": "code",
   "execution_count": 104,
   "id": "92baac4b",
   "metadata": {},
   "outputs": [
    {
     "name": "stdout",
     "output_type": "stream",
     "text": [
      "[[0.        ]\n",
      " [0.05172414]\n",
      " [0.10344828]\n",
      " [0.15517241]\n",
      " [0.17241379]\n",
      " [0.43103448]\n",
      " [0.5862069 ]\n",
      " [0.74137931]\n",
      " [0.77586207]\n",
      " [0.86206897]\n",
      " [0.89655172]\n",
      " [0.98275862]\n",
      " [1.        ]]\n"
     ]
    }
   ],
   "source": [
    "from sklearn import preprocessing as pre\n",
    "\n",
    "# A function to normalize a given 1D NumPy array such that the values range between 0 and 1\n",
    "x = np.array([13, 16, 19, 22, 23, 38, 47, 56, 58, 63, 65, 70, 71])\n",
    "#reshape array so that it works with sklearn\n",
    "x = x.reshape(-1, 1)\n",
    "#normalize all values to be between 0 and 1\n",
    "x_norm = pre.MinMaxScaler().fit_transform(x)\n",
    "\n",
    "#view normalized array\n",
    "print(x_norm)"
   ]
  },
  {
   "cell_type": "code",
   "execution_count": 105,
   "id": "1fc851d8",
   "metadata": {},
   "outputs": [
    {
     "name": "stdout",
     "output_type": "stream",
     "text": [
      "2.23606797749979\n"
     ]
    }
   ],
   "source": [
    "# A program to calculate the Euclidean distance between two points represented as NumPy arrays.\n",
    "ary1 = np.array((1, 2, 3))\n",
    "ary2 = np.array((1, 1, 1))\n",
    " \n",
    "# calculating Euclidean distance\n",
    "\n",
    "dist = np.linalg.norm(ary1 - ary2)    # using linalg.norm()\n",
    " \n",
    "# printing Euclidean distance\n",
    "print(dist)"
   ]
  },
  {
   "cell_type": "code",
   "execution_count": 106,
   "id": "32fe7d52",
   "metadata": {},
   "outputs": [
    {
     "name": "stdout",
     "output_type": "stream",
     "text": [
      "The common elements are: [1 3]\n"
     ]
    }
   ],
   "source": [
    "#Given two 1D NumPy arrays, write a program to find the common elements between them.\n",
    "arr1 = np.array([1, 3, 4, 3])\n",
    "arr2 = np.array([3, 1, 2, 1])\n",
    "\n",
    "result = np.intersect1d(arr1, arr2)\n",
    "\n",
    "print(\"The common elements are:\", result)"
   ]
  },
  {
   "cell_type": "code",
   "execution_count": 112,
   "id": "b23a0976",
   "metadata": {},
   "outputs": [
    {
     "name": "stdout",
     "output_type": "stream",
     "text": [
      "[2. 3. 4. 5. 6. 7. 8. 9.]\n"
     ]
    }
   ],
   "source": [
    "# Implement a function to compute the moving average of a 1D NumPy array with a specified window size.\n",
    "# Program to calculate moving average\n",
    "\n",
    "arr = np.array([1, 2, 3, 4, 5, 6, 7, 8, 9, 10])\n",
    "window_size = 3\n",
    "\n",
    "def moving_average(arr, window_size):\n",
    "    cumsum = np.cumsum(arr, dtype=float)\n",
    "    cumsum[window_size:] = cumsum[window_size:] - cumsum[:-window_size]\n",
    "    return cumsum[window_size - 1:] / window_size\n",
    "\n",
    "result = moving_average(arr, window_size)\n",
    "print(result)"
   ]
  },
  {
   "cell_type": "code",
   "execution_count": 115,
   "id": "0dc79664",
   "metadata": {},
   "outputs": [
    {
     "name": "stdout",
     "output_type": "stream",
     "text": [
      "[ 1.   7.   8.   2.   0.1  3.  15.   2.5]\n",
      "\n",
      "k smallest values:\n",
      "[0.1 1.  2. ]\n"
     ]
    }
   ],
   "source": [
    "# A NumPy program to find the k smallest values in a given array\n",
    "array1 = np.array([1, 7, 8, 2, 0.1, 3, 15, 2.5])\n",
    "print(array1)\n",
    "k = 3\n",
    "result = np.argpartition(array1, k)\n",
    "print(\"\\nk smallest values:\")\n",
    "print(array1[result[:k]])"
   ]
  },
  {
   "cell_type": "code",
   "execution_count": 116,
   "id": "8fbee090",
   "metadata": {},
   "outputs": [
    {
     "name": "stdout",
     "output_type": "stream",
     "text": [
      "Original array 1:\n",
      " [1 2 3] \n",
      "\n",
      "Original array 2:\n",
      " [4 5 6] \n",
      "\n",
      "Result:\n",
      " [32] \n",
      "\n"
     ]
    }
   ],
   "source": [
    "# A function to calculate the cross-correlation between two 1D NumPy arrays\n",
    "# Creating two numpy arrays\n",
    "arry1 = np.array([1,2,3])\n",
    "arry2 = np.array([4,5,6])\n",
    "\n",
    "print(\"Original array 1:\\n\",arry1,\"\\n\")\n",
    "print(\"Original array 2:\\n\",arry2,\"\\n\")\n",
    "\n",
    "# Finding cross correlation\n",
    "res = np.correlate(arry1,arry2)\n",
    "print(\"Result:\\n\",res,\"\\n\")"
   ]
  },
  {
   "cell_type": "code",
   "execution_count": 120,
   "id": "9e505e15",
   "metadata": {},
   "outputs": [
    {
     "name": "stdout",
     "output_type": "stream",
     "text": [
      "Row with maximum sum is:  2\n"
     ]
    }
   ],
   "source": [
    "# A 2D NumPy array, write a program to find the row with the maximum sum\n",
    "# Create a 3x4 matrix\n",
    "matrix = [[1, 2, 3, 4],\n",
    "       [5, 6, 7, 8],\n",
    "       [9, 10, 11, 12]]\n",
    "m = 3\n",
    "n = 4\n",
    "\n",
    "# Initialize max_sum and max_row to 0\n",
    "max_sum = 0\n",
    "max_row = -1\n",
    "\n",
    "# Traverse the matrix row by row and find the row with maximum sum\n",
    "for i in range(m):\n",
    "    row_sum = 0\n",
    "    for j in range(n):\n",
    "        row_sum += matrix[i][j]\n",
    "    if row_sum > max_sum:\n",
    "        max_sum = row_sum\n",
    "        max_row = i\n",
    "\n",
    "# Print the index of the row with maximum sum\n",
    "print(\"Row with maximum sum is: \", max_row)\n"
   ]
  },
  {
   "cell_type": "code",
   "execution_count": 126,
   "id": "b69bddba",
   "metadata": {},
   "outputs": [
    {
     "name": "stdout",
     "output_type": "stream",
     "text": [
      "[[11 11 12 11]\n",
      " [13 11 12 11]\n",
      " [16 11 12 11]\n",
      " [11 11 12 11]]\n",
      "Unique Rows:\n",
      "[11 12 13 16]\n"
     ]
    }
   ],
   "source": [
    "# A NumPy program to create a random 2D array and extract all the unique rows from it\n",
    "\n",
    "# Create a 2D numpy array\n",
    "arr2D = np.array([[11, 11, 12, 11],\n",
    "                  [13, 11, 12, 11],\n",
    "                  [16, 11, 12, 11],\n",
    "                  [11, 11, 12, 11]])\n",
    "\n",
    "print(arr2D, sep = '\\n')\n",
    "\n",
    "def extract_unique_rows(arr2D):\n",
    "    uniqueRows = np.unique(arr2D)\n",
    "    return uniqueRows\n",
    "extracted= extract_unique_rows(uniqueRows)\n",
    "\n",
    "print('Unique Rows:', uniqueRows, sep = '\\n')\n"
   ]
  },
  {
   "cell_type": "markdown",
   "id": "fab43fdc",
   "metadata": {},
   "source": [
    "# Pandas & Functions"
   ]
  },
  {
   "cell_type": "code",
   "execution_count": 127,
   "id": "3e0c16a7",
   "metadata": {},
   "outputs": [
    {
     "name": "stdout",
     "output_type": "stream",
     "text": [
      "          A         B         C\n",
      "A  1.000000  0.518457 -0.701886\n",
      "B  0.518457  1.000000 -0.860941\n",
      "C -0.701886 -0.860941  1.000000\n"
     ]
    }
   ],
   "source": [
    "import pandas as pd\n",
    "\n",
    "#A Pandas program to calculate the correlation matrix for a given DataFrame\n",
    "\n",
    "data = {'A': [45, 37, 42, 35, 39],\n",
    "        'B': [38, 31, 26, 28, 33],\n",
    "        'C': [10, 15, 17, 21, 12]\n",
    "        }\n",
    "\n",
    "df = pd.DataFrame(data)\n",
    "\n",
    "corr_matrix = df.corr()\n",
    "print(corr_matrix)"
   ]
  },
  {
   "cell_type": "code",
   "execution_count": 133,
   "id": "cbe6ad18",
   "metadata": {},
   "outputs": [
    {
     "data": {
      "text/html": [
       "<div>\n",
       "<style scoped>\n",
       "    .dataframe tbody tr th:only-of-type {\n",
       "        vertical-align: middle;\n",
       "    }\n",
       "\n",
       "    .dataframe tbody tr th {\n",
       "        vertical-align: top;\n",
       "    }\n",
       "\n",
       "    .dataframe thead th {\n",
       "        text-align: right;\n",
       "    }\n",
       "</style>\n",
       "<table border=\"1\" class=\"dataframe\">\n",
       "  <thead>\n",
       "    <tr style=\"text-align: right;\">\n",
       "      <th></th>\n",
       "      <th>A</th>\n",
       "      <th>B</th>\n",
       "      <th>C</th>\n",
       "      <th>D</th>\n",
       "    </tr>\n",
       "  </thead>\n",
       "  <tbody>\n",
       "    <tr>\n",
       "      <th>0</th>\n",
       "      <td>45</td>\n",
       "      <td>38</td>\n",
       "      <td>10</td>\n",
       "      <td>60</td>\n",
       "    </tr>\n",
       "    <tr>\n",
       "      <th>2</th>\n",
       "      <td>42</td>\n",
       "      <td>26</td>\n",
       "      <td>17</td>\n",
       "      <td>17</td>\n",
       "    </tr>\n",
       "  </tbody>\n",
       "</table>\n",
       "</div>"
      ],
      "text/plain": [
       "    A   B   C   D\n",
       "0  45  38  10  60\n",
       "2  42  26  17  17"
      ]
     },
     "execution_count": 133,
     "metadata": {},
     "output_type": "execute_result"
    }
   ],
   "source": [
    "# A function that finds the top n rows with the largest values in a specific column of a DataFrame\n",
    "data = {'A': [45, 37, 42, 35, 39],\n",
    "        'B': [38, 31, 26, 28, 33],\n",
    "        'C': [10, 15, 17, 21, 12],\n",
    "        'D': [60, 75, 17, 91, 38]\n",
    "        }\n",
    "\n",
    "df = pd.DataFrame(data)\n",
    "df.nlargest(2,\"A\")"
   ]
  },
  {
   "cell_type": "code",
   "execution_count": 134,
   "id": "a5cbfb79",
   "metadata": {},
   "outputs": [
    {
     "data": {
      "text/html": [
       "<div>\n",
       "<style scoped>\n",
       "    .dataframe tbody tr th:only-of-type {\n",
       "        vertical-align: middle;\n",
       "    }\n",
       "\n",
       "    .dataframe tbody tr th {\n",
       "        vertical-align: top;\n",
       "    }\n",
       "\n",
       "    .dataframe thead th {\n",
       "        text-align: right;\n",
       "    }\n",
       "</style>\n",
       "<table border=\"1\" class=\"dataframe\">\n",
       "  <thead>\n",
       "    <tr style=\"text-align: right;\">\n",
       "      <th></th>\n",
       "      <th>C1</th>\n",
       "      <th>C2</th>\n",
       "      <th>cumsum</th>\n",
       "    </tr>\n",
       "  </thead>\n",
       "  <tbody>\n",
       "    <tr>\n",
       "      <th>0</th>\n",
       "      <td>a</td>\n",
       "      <td>1</td>\n",
       "      <td>1</td>\n",
       "    </tr>\n",
       "    <tr>\n",
       "      <th>1</th>\n",
       "      <td>a</td>\n",
       "      <td>2</td>\n",
       "      <td>3</td>\n",
       "    </tr>\n",
       "    <tr>\n",
       "      <th>2</th>\n",
       "      <td>a</td>\n",
       "      <td>3</td>\n",
       "      <td>6</td>\n",
       "    </tr>\n",
       "    <tr>\n",
       "      <th>3</th>\n",
       "      <td>b</td>\n",
       "      <td>4</td>\n",
       "      <td>4</td>\n",
       "    </tr>\n",
       "    <tr>\n",
       "      <th>4</th>\n",
       "      <td>b</td>\n",
       "      <td>5</td>\n",
       "      <td>9</td>\n",
       "    </tr>\n",
       "  </tbody>\n",
       "</table>\n",
       "</div>"
      ],
      "text/plain": [
       "  C1  C2  cumsum\n",
       "0  a   1       1\n",
       "1  a   2       3\n",
       "2  a   3       6\n",
       "3  b   4       4\n",
       "4  b   5       9"
      ]
     },
     "execution_count": 134,
     "metadata": {},
     "output_type": "execute_result"
    }
   ],
   "source": [
    "# A program to calculate the cumulative sum of a specific column in a DataFrame, grouped by another column\n",
    "df = pd.DataFrame({'C1' : ['a','a','a','b','b'],\n",
    "           'C2' : [1,2,3,4,5]})\n",
    "df['cumsum'] = df.groupby(by=['C1'])['C2'].transform(lambda x: x.cumsum())\n",
    "df"
   ]
  },
  {
   "cell_type": "code",
   "execution_count": 140,
   "id": "b2aefc50",
   "metadata": {},
   "outputs": [
    {
     "name": "stdout",
     "output_type": "stream",
     "text": [
      "0    10.0\n",
      "1    15.0\n",
      "2    20.0\n",
      "3    30.0\n",
      "4    40.0\n",
      "Name: Value, dtype: float64\n"
     ]
    }
   ],
   "source": [
    "# A function that calculates the moving average of a specific column in a DataFrame with a given window size\n",
    "\n",
    "def moving_average(dataframe, column, window_size):\n",
    "    rolling_avg = dataframe[column].rolling(window=window_size, min_periods=1).mean()\n",
    "    return rolling_avg\n",
    "\n",
    "data = {'Name': ['A', 'B', 'C', 'D', 'E'],\n",
    "        'Value': [10, 20, 30, 40, 50]}\n",
    "df = pd.DataFrame(data)\n",
    "\n",
    "column_name = 'Value'\n",
    "window_size = 3\n",
    "\n",
    "moving_avg = moving_average(df, column_name, window_size)\n",
    "print(moving_avg)"
   ]
  },
  {
   "cell_type": "code",
   "execution_count": 144,
   "id": "c74c2215",
   "metadata": {},
   "outputs": [
    {
     "data": {
      "text/plain": [
       "0    50\n",
       "Name: Value, dtype: int64"
      ]
     },
     "execution_count": 144,
     "metadata": {},
     "output_type": "execute_result"
    }
   ],
   "source": [
    "# A Pandas program to find the most common value in each column of a DataFrame\n",
    "data = {'Name': ['A', 'B', 'C', 'D', 'E', 'F','G'],\n",
    "        'Value': [10, 20, 50, 30, 50, 40, 50]}\n",
    "df = pd.DataFrame(data)\n",
    "df['Value'].mode()\n"
   ]
  },
  {
   "cell_type": "code",
   "execution_count": 149,
   "id": "7622f55e",
   "metadata": {},
   "outputs": [
    {
     "name": "stdout",
     "output_type": "stream",
     "text": [
      "Outliers:\n",
      "Empty DataFrame\n",
      "Columns: [Name, Value]\n",
      "Index: []\n"
     ]
    }
   ],
   "source": [
    "# A function that finds the outliers in a specific column of a DataFrame using the Z-score method\n",
    "\n",
    "def outliers_zscore(dataframe, column, threshold=3):\n",
    "    z_scores = (dataframe[column] - dataframe[column].mean()) / dataframe[column].std()\n",
    "    outliers = dataframe[abs(z_scores) > threshold]\n",
    "    return outliers\n",
    "\n",
    "data_1 = {'Name': ['A', 'B', 'C', 'D', 'E'],\n",
    "        'Value': [10, 20, 30, 40, 50]}\n",
    "df = pd.DataFrame(data_1)\n",
    "\n",
    "column_name = 'Value'\n",
    "threshold = 2\n",
    "\n",
    "outliers = outliers_zscore(df, column_name, threshold)\n",
    "print(\"Outliers:\")\n",
    "print(outliers)"
   ]
  },
  {
   "cell_type": "code",
   "execution_count": 160,
   "id": "dff0bbed",
   "metadata": {},
   "outputs": [],
   "source": [
    "# A program to find the rows in a DataFrame where a specific column's value is greater than the average value of that column\n",
    "\n"
   ]
  },
  {
   "cell_type": "code",
   "execution_count": 158,
   "id": "cf1ae298",
   "metadata": {},
   "outputs": [
    {
     "name": "stdout",
     "output_type": "stream",
     "text": [
      "  Name_left  Value_left Name_right  Value_right\n",
      "0         A          10          F           10\n",
      "1         B          20          G           20\n",
      "2         C          50          H           30\n",
      "3         D          30          I           40\n",
      "4         E          50          J           50\n"
     ]
    }
   ],
   "source": [
    "# A function that performs a left join between two DataFrames based on a common column\n",
    "data1 = {'Name': ['A', 'B', 'C', 'D', 'E'],\n",
    "        'Value': [10, 20, 50, 30, 50]}\n",
    "df1 = pd.DataFrame(data1)\n",
    "\n",
    "data2 = {'Name': [ 'F','G','H','I','J'],\n",
    "        'Value': [10, 20, 30, 40, 50]}\n",
    "df2 = pd.DataFrame(data2)\n",
    "\n",
    "\n",
    "df3=df1.join(df2, lsuffix=\"_left\", rsuffix=\"_right\")\n",
    "print(df3)"
   ]
  },
  {
   "cell_type": "code",
   "execution_count": 154,
   "id": "846f4b91",
   "metadata": {},
   "outputs": [
    {
     "name": "stdout",
     "output_type": "stream",
     "text": [
      "\n",
      "Calculating Covariance\n",
      "        Apple     Orange      Banana        Pear\n",
      "Apple   367.9  47.600000  -40.200000  -35.000000\n",
      "Orange   47.6  52.666667   54.333333   77.866667\n",
      "Banana  -40.2  54.333333  134.266667  154.933333\n",
      "Pear    -35.0  77.866667  154.933333  211.866667\n",
      "\n",
      " Between 2 columns\n",
      "47.6\n"
     ]
    }
   ],
   "source": [
    "# A program to calculate the covariance between two specific columns in a DataFrame\n",
    "df = pd.DataFrame([[10, 20, 30, 40], [7, 14, 21, 28], [55, 15, 8, 12],\n",
    "                   [15, 14, 1, 8], [7, 1, 1, 8], [5, 4, 9, 2]],\n",
    "                  columns=['Apple', 'Orange', 'Banana', 'Pear'],\n",
    "                  index=['Basket1', 'Basket2', 'Basket3', 'Basket4',\n",
    "                         'Basket5', 'Basket6'])\n",
    " \n",
    "print(\"\\nCalculating Covariance\")\n",
    "print(df.cov())\n",
    " \n",
    "print(\"\\n Between 2 columns\")\n",
    "# Covariance of Apple vs Orange\n",
    "print(df.Apple.cov(df.Orange))"
   ]
  },
  {
   "cell_type": "code",
   "execution_count": 155,
   "id": "f10fddce",
   "metadata": {},
   "outputs": [
    {
     "name": "stdout",
     "output_type": "stream",
     "text": [
      "          2016      2015      2014\n",
      "GOOG   1769950   1500923   1371819\n",
      "APPL  30586265  40912316  41403351\n"
     ]
    },
    {
     "data": {
      "text/html": [
       "<div>\n",
       "<style scoped>\n",
       "    .dataframe tbody tr th:only-of-type {\n",
       "        vertical-align: middle;\n",
       "    }\n",
       "\n",
       "    .dataframe tbody tr th {\n",
       "        vertical-align: top;\n",
       "    }\n",
       "\n",
       "    .dataframe thead th {\n",
       "        text-align: right;\n",
       "    }\n",
       "</style>\n",
       "<table border=\"1\" class=\"dataframe\">\n",
       "  <thead>\n",
       "    <tr style=\"text-align: right;\">\n",
       "      <th></th>\n",
       "      <th>2016</th>\n",
       "      <th>2015</th>\n",
       "      <th>2014</th>\n",
       "    </tr>\n",
       "  </thead>\n",
       "  <tbody>\n",
       "    <tr>\n",
       "      <th>GOOG</th>\n",
       "      <td>0.179241</td>\n",
       "      <td>0.094112</td>\n",
       "      <td>NaN</td>\n",
       "    </tr>\n",
       "    <tr>\n",
       "      <th>APPL</th>\n",
       "      <td>-0.252395</td>\n",
       "      <td>-0.011860</td>\n",
       "      <td>NaN</td>\n",
       "    </tr>\n",
       "  </tbody>\n",
       "</table>\n",
       "</div>"
      ],
      "text/plain": [
       "          2016      2015  2014\n",
       "GOOG  0.179241  0.094112   NaN\n",
       "APPL -0.252395 -0.011860   NaN"
      ]
     },
     "execution_count": 155,
     "metadata": {},
     "output_type": "execute_result"
    }
   ],
   "source": [
    "# A function that calculates the percentage change of each value in a DataFrame column compared to its previous value.\n",
    "df = pd.DataFrame({\n",
    "    '2016': [1769950, 30586265],\n",
    "    '2015': [1500923, 40912316],\n",
    "    '2014': [1371819, 41403351]},\n",
    "    index=['GOOG', 'APPL'])\n",
    "print(df)\n",
    "df.pct_change(axis='columns', periods=-1)"
   ]
  },
  {
   "cell_type": "code",
   "execution_count": 1,
   "id": "75f232f7",
   "metadata": {},
   "outputs": [],
   "source": [
    "######"
   ]
  },
  {
   "cell_type": "code",
   "execution_count": null,
   "id": "2bfeb72f",
   "metadata": {},
   "outputs": [],
   "source": []
  }
 ],
 "metadata": {
  "kernelspec": {
   "display_name": "Python 3 (ipykernel)",
   "language": "python",
   "name": "python3"
  },
  "language_info": {
   "codemirror_mode": {
    "name": "ipython",
    "version": 3
   },
   "file_extension": ".py",
   "mimetype": "text/x-python",
   "name": "python",
   "nbconvert_exporter": "python",
   "pygments_lexer": "ipython3",
   "version": "3.9.12"
  }
 },
 "nbformat": 4,
 "nbformat_minor": 5
}
