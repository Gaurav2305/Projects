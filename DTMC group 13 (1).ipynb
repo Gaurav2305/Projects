{
 "cells": [
  {
   "cell_type": "code",
   "execution_count": 13,
   "id": "30026d92",
   "metadata": {},
   "outputs": [
    {
     "name": "stdout",
     "output_type": "stream",
     "text": [
      "The matrix is a transition probability matrix\n"
     ]
    }
   ],
   "source": [
    "import numpy as np\n",
    "import numpy.linalg as la\n",
    "import random\n",
    "\n",
    "def is_transition_matrix(matrix):\n",
    "    # Check if the matrix is a square matrix\n",
    "    if len(matrix) != len(matrix[0]):\n",
    "        return False\n",
    "    \n",
    "    # Check if all the values are non-negative\n",
    "    for row in matrix:\n",
    "        for value in row:\n",
    "            if value < 0:\n",
    "                return False\n",
    "    \n",
    "    # Check if each row sums up to 1\n",
    "    for row in matrix:\n",
    "        row_sum = sum(row)\n",
    "        if abs(row_sum - 1) > 1e-9:  # use a tolerance of 1e-9 to account for floating point errors\n",
    "            return False\n",
    "    \n",
    "    # If all the above conditions are satisfied, the matrix is a transition probability matrix\n",
    "    return True\n",
    "\n",
    "P = np.array([[0.2, 0.6, 0.2],\n",
    "              [0.4, 0.1, 0.5],\n",
    "              [0.1, 0.2, 0.7]])\n",
    "\n",
    "if is_transition_matrix(P):\n",
    "    print(\"The matrix is a transition probability matrix\")\n",
    "else:\n",
    "    print(\"The matrix is not a transition probability matrix\")\n",
    "\n",
    "\n",
    "\n",
    "\n",
    "\n",
    "\n"
   ]
  },
  {
   "cell_type": "code",
   "execution_count": null,
   "id": "be188d6f",
   "metadata": {},
   "outputs": [],
   "source": []
  },
  {
   "cell_type": "code",
   "execution_count": 14,
   "id": "d1369e62",
   "metadata": {},
   "outputs": [
    {
     "name": "stdout",
     "output_type": "stream",
     "text": [
      "Steady state probabilities: [[0.1954023  0.25287356 0.55172414]]\n"
     ]
    }
   ],
   "source": [
    "# solve for steady state probabilities\n",
    "eigvals, eigvecs = la.eig (P.T)\n",
    "# normalize the eigenvector v so that elements sum upto 1. this will give you steady state probability vector.\n",
    "eigvec = eigvecs[:, np.isclose(eigvals, 1)]\n",
    "pi = (eigvec / eigvec.sum()).real.T\n",
    "print(\"Steady state probabilities:\", pi)"
   ]
  },
  {
   "cell_type": "code",
   "execution_count": 15,
   "id": "b9c3d553",
   "metadata": {},
   "outputs": [
    {
     "name": "stdout",
     "output_type": "stream",
     "text": [
      "Step 0: State 0\n",
      "Step 1: State 1\n",
      "Step 2: State 2\n",
      "Step 3: State 0\n",
      "Step 4: State 1\n",
      "Step 5: State 1\n",
      "Step 6: State 0\n",
      "Step 7: State 1\n",
      "Step 8: State 2\n",
      "Step 9: State 2\n",
      "Step 10: State 0\n",
      "Step 11: State 1\n"
     ]
    }
   ],
   "source": [
    "#Simulate Markov Chain\n",
    "def simulate_markov_chain(P, n, i):\n",
    "    state = i\n",
    "    for t in range(n):\n",
    "        print(\"Step {}: State {}\".format(t, state))\n",
    "        state = random.choices(range(len(P)), weights=P[state])[0]\n",
    "\n",
    "# simulate Markov Chain for 10 steps starting from state 0\n",
    "simulate_markov_chain(P, 12, 0)"
   ]
  },
  {
   "cell_type": "code",
   "execution_count": 16,
   "id": "ef0ecbaf",
   "metadata": {},
   "outputs": [
    {
     "name": "stdout",
     "output_type": "stream",
     "text": [
      "Proportions of time spent in each state: [0.19515  0.253175 0.551675]\n"
     ]
    }
   ],
   "source": [
    "#Simulate markov chain multiple\n",
    "def simulate_markov_chain_multiple(P, n, i, N):\n",
    "    counts = np.zeros(len(P))          #creates zeros with a length equal to the number of states in the Markov chain\n",
    "    state = i\n",
    "    for run in range(N):\n",
    "        for t in range(n):\n",
    "            counts[state] += 1\n",
    "            state = random.choices(range(len(P)), weights=P[state])[0]\n",
    "    return counts / (n * N)\n",
    "\n",
    "# simulate Markov Chain for 10 steps starting from state 0 for 10000 runs\n",
    "proportions = simulate_markov_chain_multiple(P, 12, 0, 10000)\n",
    "print(\"Proportions of time spent in each state:\", proportions)"
   ]
  },
  {
   "cell_type": "code",
   "execution_count": 17,
   "id": "f12b0e34",
   "metadata": {},
   "outputs": [],
   "source": [
    "\n",
    "#Get communication classes\n",
    "def get_communication_classes(P):\n",
    "    n = len(P)\n",
    "    classes = []\n",
    "    visited = set()\n",
    "    for i in range(n):\n",
    "        if i not in visited:\n",
    "            # find all states that communicate with i\n",
    "            comm_class = {i}\n",
    "            queue = [i]\n",
    "            while queue:\n",
    "                j = queue.pop(0)\n",
    "                visited.add(j)\n",
    "                for k in range(n):\n",
    "                    if k not in comm_class and P[j, k] > 0:\n",
    "                        comm_class.add(k)\n",
    "                        queue.append(k)"
   ]
  },
  {
   "cell_type": "code",
   "execution_count": 20,
   "id": "14096d4e",
   "metadata": {},
   "outputs": [
    {
     "name": "stdout",
     "output_type": "stream",
     "text": [
      "Recurrent states: [2]\n",
      "Transient states: [0 1]\n",
      "classes: [{2}]\n",
      "eigenvalue [-0.36055513  0.36055513  1.        ]\n",
      "[[0.2 0.6 0.2]\n",
      " [0.4 0.1 0.5]\n",
      " [0.1 0.2 0.7]]\n"
     ]
    }
   ],
   "source": [
    "# determine if comm_class is recurrent or transient\n",
    "recurrent_states = np.where(np.isclose(eigvals, 1))[0]\n",
    "transient_states = np.where(np.abs(eigvals - 1) > 1e-8)[0]\n",
    "\n",
    "classes = []\n",
    "for state in recurrent_states:\n",
    "    class_ = set([state])\n",
    "    for i in range(P.shape[0]):\n",
    "        if i not in class_:\n",
    "            if np.isclose(P[list(class_), i], np.zeros(len(class_))).all() and \\\n",
    "               np.isclose(P[i, list(class_)], np.zeros(len(class_))).all():\n",
    "                class_.add(i)\n",
    "    classes.append(class_)\n",
    "\n",
    "print(\"Recurrent states:\", recurrent_states)\n",
    "print(\"Transient states:\", transient_states)\n",
    "print(\"classes:\" , classes)\n",
    "print(\"eigenvalue\",eigvals)\n",
    "print(P)"
   ]
  },
  {
   "cell_type": "code",
   "execution_count": null,
   "id": "60b8f229",
   "metadata": {},
   "outputs": [],
   "source": []
  },
  {
   "cell_type": "code",
   "execution_count": null,
   "id": "e0c141ae",
   "metadata": {},
   "outputs": [],
   "source": []
  },
  {
   "cell_type": "code",
   "execution_count": null,
   "id": "d3863016",
   "metadata": {},
   "outputs": [],
   "source": []
  },
  {
   "cell_type": "code",
   "execution_count": null,
   "id": "e50ad161",
   "metadata": {},
   "outputs": [],
   "source": []
  }
 ],
 "metadata": {
  "kernelspec": {
   "display_name": "Python 3 (ipykernel)",
   "language": "python",
   "name": "python3"
  },
  "language_info": {
   "codemirror_mode": {
    "name": "ipython",
    "version": 3
   },
   "file_extension": ".py",
   "mimetype": "text/x-python",
   "name": "python",
   "nbconvert_exporter": "python",
   "pygments_lexer": "ipython3",
   "version": "3.9.12"
  }
 },
 "nbformat": 4,
 "nbformat_minor": 5
}
